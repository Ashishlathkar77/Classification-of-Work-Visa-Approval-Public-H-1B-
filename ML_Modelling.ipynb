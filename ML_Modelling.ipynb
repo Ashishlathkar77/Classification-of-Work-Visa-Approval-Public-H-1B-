{
  "cells": [
    {
      "cell_type": "markdown",
      "metadata": {
        "pycharm": {
          "name": "#%%\n"
        },
        "id": "UpzAxe-UA6Dq"
      },
      "source": [
        "**Classification of Work Visa Approval** (Ashish Lathkar)\n",
        "\n",
        "Date: 02 March 2022"
      ]
    },
    {
      "cell_type": "code",
      "execution_count": 820,
      "metadata": {
        "pycharm": {
          "name": "#%%\n"
        },
        "id": "SYWScL9HA6Dy"
      },
      "outputs": [],
      "source": [
        "# Importing dependencies\n",
        "\n",
        "import pandas as pd\n",
        "import numpy as np\n",
        "import matplotlib.pyplot as plt\n",
        "import seaborn as sns\n",
        "from sklearn.model_selection import train_test_split\n",
        "from sklearn.linear_model import LogisticRegression\n",
        "from sklearn.metrics import confusion_matrix\n",
        "from sklearn.metrics import accuracy_score\n",
        "from sklearn.preprocessing import LabelEncoder\n",
        "from sklearn.naive_bayes import GaussianNB\n",
        "from sklearn.ensemble import RandomForestClassifier\n",
        "from sklearn import metrics"
      ]
    },
    {
      "cell_type": "code",
      "execution_count": 821,
      "metadata": {
        "pycharm": {
          "name": "#%%\n"
        },
        "colab": {
          "base_uri": "https://localhost:8080/"
        },
        "id": "NBjuMJvuA6D0",
        "outputId": "22a25f8d-ecbb-4d13-f0f5-48f36d6e0c66"
      },
      "outputs": [
        {
          "output_type": "stream",
          "name": "stderr",
          "text": [
            "/usr/local/lib/python3.7/dist-packages/IPython/core/interactiveshell.py:2882: DtypeWarning: Columns (13,14,31,45,53,66,76,87,97,108,129,150,160,171,192,213,223,234,244) have mixed types.Specify dtype option on import or set low_memory=False.\n",
            "  exec(code_obj, self.user_global_ns, self.user_ns)\n"
          ]
        }
      ],
      "source": [
        "visa_data = pd.read_csv('/content/H-1B_Disclosure_Data_FY2019.csv', usecols=['CASE_NUMBER','CASE_STATUS', 'VISA_CLASS', 'EMPLOYER_NAME', 'AGENT_REPRESENTING_EMPLOYER', 'JOB_TITLE', 'SOC_TITLE', 'SOC_CODE', 'NAICS_CODE', 'NEW_EMPLOYMENT','CONTINUED_EMPLOYMENT', 'CHANGE_PREVIOUS_EMPLOYMENT', 'NEW_CONCURRENT_EMPLOYMENT', 'CHANGE_EMPLOYER', 'AMENDED_PETITION', 'H-1B_DEPENDENT', 'SUPPORT_H1B', 'WILLFUL_VIOLATOR', 'TOTAL_WORKER_POSITIONS', 'FULL_TIME_POSITION', 'SECONDARY_ENTITY_1','SECONDARY_ENTITY_2','SECONDARY_ENTITY_3','SECONDARY_ENTITY_4', 'SECONDARY_ENTITY_5','SECONDARY_ENTITY_6', 'SECONDARY_ENTITY_7', 'SECONDARY_ENTITY_8', 'SECONDARY_ENTITY_9', 'SECONDARY_ENTITY_10', 'WAGE_RATE_OF_PAY_FROM_1', 'WAGE_RATE_OF_PAY_FROM_2', 'WAGE_RATE_OF_PAY_FROM_3', 'WAGE_RATE_OF_PAY_FROM_4', 'WAGE_RATE_OF_PAY_FROM_5', 'WAGE_RATE_OF_PAY_FROM_6', 'WAGE_RATE_OF_PAY_FROM_7', 'WAGE_RATE_OF_PAY_FROM_8', 'WAGE_RATE_OF_PAY_FROM_9', 'WAGE_RATE_OF_PAY_FROM_10', 'WAGE_UNIT_OF_PAY_1', 'WAGE_UNIT_OF_PAY_2', 'WAGE_UNIT_OF_PAY_2',  'WAGE_UNIT_OF_PAY_3', 'WAGE_UNIT_OF_PAY_4', 'WAGE_UNIT_OF_PAY_5', 'WAGE_UNIT_OF_PAY_6', 'WAGE_UNIT_OF_PAY_7', 'WAGE_UNIT_OF_PAY_8', 'WAGE_UNIT_OF_PAY_9', 'WAGE_UNIT_OF_PAY_10'])"
      ]
    },
    {
      "cell_type": "code",
      "execution_count": 822,
      "metadata": {
        "pycharm": {
          "name": "#%%\n"
        },
        "id": "nGvxbkxLA6D1",
        "colab": {
          "base_uri": "https://localhost:8080/",
          "height": 939
        },
        "outputId": "73f6297b-02fe-4c0a-e6dd-ac416f85e652"
      },
      "outputs": [
        {
          "output_type": "execute_result",
          "data": {
            "text/html": [
              "\n",
              "  <div id=\"df-56711326-422d-45e8-8ea9-3fb22f7bb13e\">\n",
              "    <div class=\"colab-df-container\">\n",
              "      <div>\n",
              "<style scoped>\n",
              "    .dataframe tbody tr th:only-of-type {\n",
              "        vertical-align: middle;\n",
              "    }\n",
              "\n",
              "    .dataframe tbody tr th {\n",
              "        vertical-align: top;\n",
              "    }\n",
              "\n",
              "    .dataframe thead th {\n",
              "        text-align: right;\n",
              "    }\n",
              "</style>\n",
              "<table border=\"1\" class=\"dataframe\">\n",
              "  <thead>\n",
              "    <tr style=\"text-align: right;\">\n",
              "      <th></th>\n",
              "      <th>CASE_NUMBER</th>\n",
              "      <th>CASE_STATUS</th>\n",
              "      <th>VISA_CLASS</th>\n",
              "      <th>JOB_TITLE</th>\n",
              "      <th>SOC_CODE</th>\n",
              "      <th>SOC_TITLE</th>\n",
              "      <th>FULL_TIME_POSITION</th>\n",
              "      <th>TOTAL_WORKER_POSITIONS</th>\n",
              "      <th>NEW_EMPLOYMENT</th>\n",
              "      <th>CONTINUED_EMPLOYMENT</th>\n",
              "      <th>...</th>\n",
              "      <th>WAGE_UNIT_OF_PAY_8</th>\n",
              "      <th>SECONDARY_ENTITY_9</th>\n",
              "      <th>WAGE_RATE_OF_PAY_FROM_9</th>\n",
              "      <th>WAGE_UNIT_OF_PAY_9</th>\n",
              "      <th>SECONDARY_ENTITY_10</th>\n",
              "      <th>WAGE_RATE_OF_PAY_FROM_10</th>\n",
              "      <th>WAGE_UNIT_OF_PAY_10</th>\n",
              "      <th>H-1B_DEPENDENT</th>\n",
              "      <th>WILLFUL_VIOLATOR</th>\n",
              "      <th>SUPPORT_H1B</th>\n",
              "    </tr>\n",
              "  </thead>\n",
              "  <tbody>\n",
              "    <tr>\n",
              "      <th>0</th>\n",
              "      <td>I-200-16092-327771</td>\n",
              "      <td>WITHDRAWN</td>\n",
              "      <td>H-1B</td>\n",
              "      <td>ASSOCIATE CREATIVE DIRECTOR</td>\n",
              "      <td>11-2011</td>\n",
              "      <td>ADVERTISING AND PROMOTIONS MANAGERS</td>\n",
              "      <td>Y</td>\n",
              "      <td>1.0</td>\n",
              "      <td>0</td>\n",
              "      <td>1</td>\n",
              "      <td>...</td>\n",
              "      <td>NaN</td>\n",
              "      <td>NaN</td>\n",
              "      <td>NaN</td>\n",
              "      <td>NaN</td>\n",
              "      <td>NaN</td>\n",
              "      <td>NaN</td>\n",
              "      <td>NaN</td>\n",
              "      <td>N</td>\n",
              "      <td>N</td>\n",
              "      <td>NaN</td>\n",
              "    </tr>\n",
              "    <tr>\n",
              "      <th>1</th>\n",
              "      <td>I-203-17188-450729</td>\n",
              "      <td>WITHDRAWN</td>\n",
              "      <td>E-3 Australian</td>\n",
              "      <td>ACCOUNT SUPERVISOR (MOTHER)</td>\n",
              "      <td>11-2011</td>\n",
              "      <td>ADVERTISING AND PROMOTIONS MANAGERS</td>\n",
              "      <td>Y</td>\n",
              "      <td>1.0</td>\n",
              "      <td>0</td>\n",
              "      <td>1</td>\n",
              "      <td>...</td>\n",
              "      <td>NaN</td>\n",
              "      <td>NaN</td>\n",
              "      <td>NaN</td>\n",
              "      <td>NaN</td>\n",
              "      <td>NaN</td>\n",
              "      <td>NaN</td>\n",
              "      <td>NaN</td>\n",
              "      <td>NaN</td>\n",
              "      <td>NaN</td>\n",
              "      <td>NaN</td>\n",
              "    </tr>\n",
              "    <tr>\n",
              "      <th>2</th>\n",
              "      <td>I-203-17229-572307</td>\n",
              "      <td>WITHDRAWN</td>\n",
              "      <td>E-3 Australian</td>\n",
              "      <td>EXECUTIVE CREATIVE DIRECTOR</td>\n",
              "      <td>11-2011</td>\n",
              "      <td>ADVERTISING AND PROMOTIONS MANAGERS</td>\n",
              "      <td>Y</td>\n",
              "      <td>1.0</td>\n",
              "      <td>0</td>\n",
              "      <td>0</td>\n",
              "      <td>...</td>\n",
              "      <td>NaN</td>\n",
              "      <td>NaN</td>\n",
              "      <td>NaN</td>\n",
              "      <td>NaN</td>\n",
              "      <td>NaN</td>\n",
              "      <td>NaN</td>\n",
              "      <td>NaN</td>\n",
              "      <td>NaN</td>\n",
              "      <td>NaN</td>\n",
              "      <td>NaN</td>\n",
              "    </tr>\n",
              "    <tr>\n",
              "      <th>3</th>\n",
              "      <td>I-203-17356-299648</td>\n",
              "      <td>WITHDRAWN</td>\n",
              "      <td>E-3 Australian</td>\n",
              "      <td>PROJECT MANAGEMENT LEAD</td>\n",
              "      <td>11-2011</td>\n",
              "      <td>ADVERTISING AND PROMOTIONS MANAGERS</td>\n",
              "      <td>Y</td>\n",
              "      <td>1.0</td>\n",
              "      <td>0</td>\n",
              "      <td>0</td>\n",
              "      <td>...</td>\n",
              "      <td>NaN</td>\n",
              "      <td>NaN</td>\n",
              "      <td>NaN</td>\n",
              "      <td>NaN</td>\n",
              "      <td>NaN</td>\n",
              "      <td>NaN</td>\n",
              "      <td>NaN</td>\n",
              "      <td>NaN</td>\n",
              "      <td>NaN</td>\n",
              "      <td>NaN</td>\n",
              "    </tr>\n",
              "    <tr>\n",
              "      <th>4</th>\n",
              "      <td>I-203-18008-577576</td>\n",
              "      <td>WITHDRAWN</td>\n",
              "      <td>E-3 Australian</td>\n",
              "      <td>CREATIVE DIRECTOR, UX</td>\n",
              "      <td>11-2011</td>\n",
              "      <td>ADVERTISING AND PROMOTIONS MANAGERS</td>\n",
              "      <td>Y</td>\n",
              "      <td>1.0</td>\n",
              "      <td>0</td>\n",
              "      <td>0</td>\n",
              "      <td>...</td>\n",
              "      <td>NaN</td>\n",
              "      <td>NaN</td>\n",
              "      <td>NaN</td>\n",
              "      <td>NaN</td>\n",
              "      <td>NaN</td>\n",
              "      <td>NaN</td>\n",
              "      <td>NaN</td>\n",
              "      <td>NaN</td>\n",
              "      <td>NaN</td>\n",
              "      <td>NaN</td>\n",
              "    </tr>\n",
              "    <tr>\n",
              "      <th>...</th>\n",
              "      <td>...</td>\n",
              "      <td>...</td>\n",
              "      <td>...</td>\n",
              "      <td>...</td>\n",
              "      <td>...</td>\n",
              "      <td>...</td>\n",
              "      <td>...</td>\n",
              "      <td>...</td>\n",
              "      <td>...</td>\n",
              "      <td>...</td>\n",
              "      <td>...</td>\n",
              "      <td>...</td>\n",
              "      <td>...</td>\n",
              "      <td>...</td>\n",
              "      <td>...</td>\n",
              "      <td>...</td>\n",
              "      <td>...</td>\n",
              "      <td>...</td>\n",
              "      <td>...</td>\n",
              "      <td>...</td>\n",
              "      <td>...</td>\n",
              "    </tr>\n",
              "    <tr>\n",
              "      <th>596341</th>\n",
              "      <td>I-200-19065-126907</td>\n",
              "      <td>CERTIFIED</td>\n",
              "      <td>H-1B</td>\n",
              "      <td>SENIOR EMBRYOLOGIST</td>\n",
              "      <td>19-1029</td>\n",
              "      <td>BIOLOGICAL SCIENTISTS, ALL OTHER</td>\n",
              "      <td>Y</td>\n",
              "      <td>1.0</td>\n",
              "      <td>1</td>\n",
              "      <td>0</td>\n",
              "      <td>...</td>\n",
              "      <td>NaN</td>\n",
              "      <td>NaN</td>\n",
              "      <td>NaN</td>\n",
              "      <td>NaN</td>\n",
              "      <td>NaN</td>\n",
              "      <td>NaN</td>\n",
              "      <td>NaN</td>\n",
              "      <td>N</td>\n",
              "      <td>N</td>\n",
              "      <td>NaN</td>\n",
              "    </tr>\n",
              "    <tr>\n",
              "      <th>596342</th>\n",
              "      <td>I-200-19070-793826</td>\n",
              "      <td>CERTIFIED</td>\n",
              "      <td>H-1B</td>\n",
              "      <td>ASSISTANT MOLECULAR SCIENTIST</td>\n",
              "      <td>19-1029</td>\n",
              "      <td>BIOLOGICAL SCIENTISTS, ALL OTHER</td>\n",
              "      <td>Y</td>\n",
              "      <td>1.0</td>\n",
              "      <td>1</td>\n",
              "      <td>0</td>\n",
              "      <td>...</td>\n",
              "      <td>NaN</td>\n",
              "      <td>NaN</td>\n",
              "      <td>NaN</td>\n",
              "      <td>NaN</td>\n",
              "      <td>NaN</td>\n",
              "      <td>NaN</td>\n",
              "      <td>NaN</td>\n",
              "      <td>N</td>\n",
              "      <td>N</td>\n",
              "      <td>NaN</td>\n",
              "    </tr>\n",
              "    <tr>\n",
              "      <th>596343</th>\n",
              "      <td>I-200-19066-751003</td>\n",
              "      <td>CERTIFIED</td>\n",
              "      <td>H-1B</td>\n",
              "      <td>RESEARCH SCIENTIST</td>\n",
              "      <td>19-1029</td>\n",
              "      <td>BIOLOGICAL SCIENTISTS, ALL OTHER</td>\n",
              "      <td>Y</td>\n",
              "      <td>1.0</td>\n",
              "      <td>1</td>\n",
              "      <td>0</td>\n",
              "      <td>...</td>\n",
              "      <td>NaN</td>\n",
              "      <td>NaN</td>\n",
              "      <td>NaN</td>\n",
              "      <td>NaN</td>\n",
              "      <td>NaN</td>\n",
              "      <td>NaN</td>\n",
              "      <td>NaN</td>\n",
              "      <td>N</td>\n",
              "      <td>N</td>\n",
              "      <td>NaN</td>\n",
              "    </tr>\n",
              "    <tr>\n",
              "      <th>596344</th>\n",
              "      <td>I-200-19066-561536</td>\n",
              "      <td>CERTIFIED</td>\n",
              "      <td>H-1B</td>\n",
              "      <td>RESEARCH ASSOCIATE</td>\n",
              "      <td>19-1029</td>\n",
              "      <td>BIOLOGICAL SCIENTISTS, ALL OTHER</td>\n",
              "      <td>Y</td>\n",
              "      <td>1.0</td>\n",
              "      <td>1</td>\n",
              "      <td>0</td>\n",
              "      <td>...</td>\n",
              "      <td>NaN</td>\n",
              "      <td>NaN</td>\n",
              "      <td>NaN</td>\n",
              "      <td>NaN</td>\n",
              "      <td>NaN</td>\n",
              "      <td>NaN</td>\n",
              "      <td>NaN</td>\n",
              "      <td>N</td>\n",
              "      <td>N</td>\n",
              "      <td>NaN</td>\n",
              "    </tr>\n",
              "    <tr>\n",
              "      <th>596345</th>\n",
              "      <td>I-200-19058-287243</td>\n",
              "      <td>CERTIFIED</td>\n",
              "      <td>H-1B</td>\n",
              "      <td>POSTDOCTORAL RESEARCH FELLOW</td>\n",
              "      <td>19-1029</td>\n",
              "      <td>BIOLOGICAL SCIENTISTS, ALL OTHER</td>\n",
              "      <td>Y</td>\n",
              "      <td>1.0</td>\n",
              "      <td>1</td>\n",
              "      <td>0</td>\n",
              "      <td>...</td>\n",
              "      <td>NaN</td>\n",
              "      <td>NaN</td>\n",
              "      <td>NaN</td>\n",
              "      <td>NaN</td>\n",
              "      <td>NaN</td>\n",
              "      <td>NaN</td>\n",
              "      <td>NaN</td>\n",
              "      <td>NaN</td>\n",
              "      <td>NaN</td>\n",
              "      <td>NaN</td>\n",
              "    </tr>\n",
              "  </tbody>\n",
              "</table>\n",
              "<p>596346 rows × 50 columns</p>\n",
              "</div>\n",
              "      <button class=\"colab-df-convert\" onclick=\"convertToInteractive('df-56711326-422d-45e8-8ea9-3fb22f7bb13e')\"\n",
              "              title=\"Convert this dataframe to an interactive table.\"\n",
              "              style=\"display:none;\">\n",
              "        \n",
              "  <svg xmlns=\"http://www.w3.org/2000/svg\" height=\"24px\"viewBox=\"0 0 24 24\"\n",
              "       width=\"24px\">\n",
              "    <path d=\"M0 0h24v24H0V0z\" fill=\"none\"/>\n",
              "    <path d=\"M18.56 5.44l.94 2.06.94-2.06 2.06-.94-2.06-.94-.94-2.06-.94 2.06-2.06.94zm-11 1L8.5 8.5l.94-2.06 2.06-.94-2.06-.94L8.5 2.5l-.94 2.06-2.06.94zm10 10l.94 2.06.94-2.06 2.06-.94-2.06-.94-.94-2.06-.94 2.06-2.06.94z\"/><path d=\"M17.41 7.96l-1.37-1.37c-.4-.4-.92-.59-1.43-.59-.52 0-1.04.2-1.43.59L10.3 9.45l-7.72 7.72c-.78.78-.78 2.05 0 2.83L4 21.41c.39.39.9.59 1.41.59.51 0 1.02-.2 1.41-.59l7.78-7.78 2.81-2.81c.8-.78.8-2.07 0-2.86zM5.41 20L4 18.59l7.72-7.72 1.47 1.35L5.41 20z\"/>\n",
              "  </svg>\n",
              "      </button>\n",
              "      \n",
              "  <style>\n",
              "    .colab-df-container {\n",
              "      display:flex;\n",
              "      flex-wrap:wrap;\n",
              "      gap: 12px;\n",
              "    }\n",
              "\n",
              "    .colab-df-convert {\n",
              "      background-color: #E8F0FE;\n",
              "      border: none;\n",
              "      border-radius: 50%;\n",
              "      cursor: pointer;\n",
              "      display: none;\n",
              "      fill: #1967D2;\n",
              "      height: 32px;\n",
              "      padding: 0 0 0 0;\n",
              "      width: 32px;\n",
              "    }\n",
              "\n",
              "    .colab-df-convert:hover {\n",
              "      background-color: #E2EBFA;\n",
              "      box-shadow: 0px 1px 2px rgba(60, 64, 67, 0.3), 0px 1px 3px 1px rgba(60, 64, 67, 0.15);\n",
              "      fill: #174EA6;\n",
              "    }\n",
              "\n",
              "    [theme=dark] .colab-df-convert {\n",
              "      background-color: #3B4455;\n",
              "      fill: #D2E3FC;\n",
              "    }\n",
              "\n",
              "    [theme=dark] .colab-df-convert:hover {\n",
              "      background-color: #434B5C;\n",
              "      box-shadow: 0px 1px 3px 1px rgba(0, 0, 0, 0.15);\n",
              "      filter: drop-shadow(0px 1px 2px rgba(0, 0, 0, 0.3));\n",
              "      fill: #FFFFFF;\n",
              "    }\n",
              "  </style>\n",
              "\n",
              "      <script>\n",
              "        const buttonEl =\n",
              "          document.querySelector('#df-56711326-422d-45e8-8ea9-3fb22f7bb13e button.colab-df-convert');\n",
              "        buttonEl.style.display =\n",
              "          google.colab.kernel.accessAllowed ? 'block' : 'none';\n",
              "\n",
              "        async function convertToInteractive(key) {\n",
              "          const element = document.querySelector('#df-56711326-422d-45e8-8ea9-3fb22f7bb13e');\n",
              "          const dataTable =\n",
              "            await google.colab.kernel.invokeFunction('convertToInteractive',\n",
              "                                                     [key], {});\n",
              "          if (!dataTable) return;\n",
              "\n",
              "          const docLinkHtml = 'Like what you see? Visit the ' +\n",
              "            '<a target=\"_blank\" href=https://colab.research.google.com/notebooks/data_table.ipynb>data table notebook</a>'\n",
              "            + ' to learn more about interactive tables.';\n",
              "          element.innerHTML = '';\n",
              "          dataTable['output_type'] = 'display_data';\n",
              "          await google.colab.output.renderOutput(dataTable, element);\n",
              "          const docLink = document.createElement('div');\n",
              "          docLink.innerHTML = docLinkHtml;\n",
              "          element.appendChild(docLink);\n",
              "        }\n",
              "      </script>\n",
              "    </div>\n",
              "  </div>\n",
              "  "
            ],
            "text/plain": [
              "               CASE_NUMBER CASE_STATUS      VISA_CLASS  \\\n",
              "0       I-200-16092-327771   WITHDRAWN            H-1B   \n",
              "1       I-203-17188-450729   WITHDRAWN  E-3 Australian   \n",
              "2       I-203-17229-572307   WITHDRAWN  E-3 Australian   \n",
              "3       I-203-17356-299648   WITHDRAWN  E-3 Australian   \n",
              "4       I-203-18008-577576   WITHDRAWN  E-3 Australian   \n",
              "...                    ...         ...             ...   \n",
              "596341  I-200-19065-126907   CERTIFIED            H-1B   \n",
              "596342  I-200-19070-793826   CERTIFIED            H-1B   \n",
              "596343  I-200-19066-751003   CERTIFIED            H-1B   \n",
              "596344  I-200-19066-561536   CERTIFIED            H-1B   \n",
              "596345  I-200-19058-287243   CERTIFIED            H-1B   \n",
              "\n",
              "                            JOB_TITLE SOC_CODE  \\\n",
              "0         ASSOCIATE CREATIVE DIRECTOR  11-2011   \n",
              "1         ACCOUNT SUPERVISOR (MOTHER)  11-2011   \n",
              "2         EXECUTIVE CREATIVE DIRECTOR  11-2011   \n",
              "3             PROJECT MANAGEMENT LEAD  11-2011   \n",
              "4               CREATIVE DIRECTOR, UX  11-2011   \n",
              "...                               ...      ...   \n",
              "596341            SENIOR EMBRYOLOGIST  19-1029   \n",
              "596342  ASSISTANT MOLECULAR SCIENTIST  19-1029   \n",
              "596343             RESEARCH SCIENTIST  19-1029   \n",
              "596344             RESEARCH ASSOCIATE  19-1029   \n",
              "596345   POSTDOCTORAL RESEARCH FELLOW  19-1029   \n",
              "\n",
              "                                  SOC_TITLE FULL_TIME_POSITION  \\\n",
              "0       ADVERTISING AND PROMOTIONS MANAGERS                  Y   \n",
              "1       ADVERTISING AND PROMOTIONS MANAGERS                  Y   \n",
              "2       ADVERTISING AND PROMOTIONS MANAGERS                  Y   \n",
              "3       ADVERTISING AND PROMOTIONS MANAGERS                  Y   \n",
              "4       ADVERTISING AND PROMOTIONS MANAGERS                  Y   \n",
              "...                                     ...                ...   \n",
              "596341     BIOLOGICAL SCIENTISTS, ALL OTHER                  Y   \n",
              "596342     BIOLOGICAL SCIENTISTS, ALL OTHER                  Y   \n",
              "596343     BIOLOGICAL SCIENTISTS, ALL OTHER                  Y   \n",
              "596344     BIOLOGICAL SCIENTISTS, ALL OTHER                  Y   \n",
              "596345     BIOLOGICAL SCIENTISTS, ALL OTHER                  Y   \n",
              "\n",
              "        TOTAL_WORKER_POSITIONS NEW_EMPLOYMENT CONTINUED_EMPLOYMENT  ...  \\\n",
              "0                          1.0              0                    1  ...   \n",
              "1                          1.0              0                    1  ...   \n",
              "2                          1.0              0                    0  ...   \n",
              "3                          1.0              0                    0  ...   \n",
              "4                          1.0              0                    0  ...   \n",
              "...                        ...            ...                  ...  ...   \n",
              "596341                     1.0              1                    0  ...   \n",
              "596342                     1.0              1                    0  ...   \n",
              "596343                     1.0              1                    0  ...   \n",
              "596344                     1.0              1                    0  ...   \n",
              "596345                     1.0              1                    0  ...   \n",
              "\n",
              "        WAGE_UNIT_OF_PAY_8  SECONDARY_ENTITY_9  WAGE_RATE_OF_PAY_FROM_9  \\\n",
              "0                      NaN                 NaN                      NaN   \n",
              "1                      NaN                 NaN                      NaN   \n",
              "2                      NaN                 NaN                      NaN   \n",
              "3                      NaN                 NaN                      NaN   \n",
              "4                      NaN                 NaN                      NaN   \n",
              "...                    ...                 ...                      ...   \n",
              "596341                 NaN                 NaN                      NaN   \n",
              "596342                 NaN                 NaN                      NaN   \n",
              "596343                 NaN                 NaN                      NaN   \n",
              "596344                 NaN                 NaN                      NaN   \n",
              "596345                 NaN                 NaN                      NaN   \n",
              "\n",
              "        WAGE_UNIT_OF_PAY_9 SECONDARY_ENTITY_10  WAGE_RATE_OF_PAY_FROM_10  \\\n",
              "0                      NaN                 NaN                       NaN   \n",
              "1                      NaN                 NaN                       NaN   \n",
              "2                      NaN                 NaN                       NaN   \n",
              "3                      NaN                 NaN                       NaN   \n",
              "4                      NaN                 NaN                       NaN   \n",
              "...                    ...                 ...                       ...   \n",
              "596341                 NaN                 NaN                       NaN   \n",
              "596342                 NaN                 NaN                       NaN   \n",
              "596343                 NaN                 NaN                       NaN   \n",
              "596344                 NaN                 NaN                       NaN   \n",
              "596345                 NaN                 NaN                       NaN   \n",
              "\n",
              "       WAGE_UNIT_OF_PAY_10 H-1B_DEPENDENT WILLFUL_VIOLATOR SUPPORT_H1B  \n",
              "0                      NaN              N                N         NaN  \n",
              "1                      NaN            NaN              NaN         NaN  \n",
              "2                      NaN            NaN              NaN         NaN  \n",
              "3                      NaN            NaN              NaN         NaN  \n",
              "4                      NaN            NaN              NaN         NaN  \n",
              "...                    ...            ...              ...         ...  \n",
              "596341                 NaN              N                N         NaN  \n",
              "596342                 NaN              N                N         NaN  \n",
              "596343                 NaN              N                N         NaN  \n",
              "596344                 NaN              N                N         NaN  \n",
              "596345                 NaN            NaN              NaN         NaN  \n",
              "\n",
              "[596346 rows x 50 columns]"
            ]
          },
          "metadata": {},
          "execution_count": 822
        }
      ],
      "source": [
        "visa_data"
      ]
    },
    {
      "cell_type": "code",
      "execution_count": 823,
      "metadata": {
        "pycharm": {
          "name": "#%%\n"
        },
        "id": "L3b_yBxkA6D2"
      },
      "outputs": [],
      "source": [
        "# Removing the E-3 Australian, H-1B1 Singapore, H-1B1 Chile rows from VISA_CLASS feature as we dont need them\n",
        "\n",
        "visa_data.drop(visa_data[visa_data['VISA_CLASS']=='E-3 Australian'].index, inplace=True)\n",
        "visa_data.drop(visa_data[visa_data['VISA_CLASS']=='H-1B1 Singapore'].index, inplace=True)\n",
        "visa_data.drop(visa_data[visa_data['VISA_CLASS']=='H-1B1 Chile'].index, inplace=True)\n",
        "\n",
        "# Dropping the null value rows from VISA_CLASS features\n",
        "\n",
        "visa_data.drop(visa_data[visa_data['VISA_CLASS'].isnull()].index, inplace=True)"
      ]
    },
    {
      "cell_type": "code",
      "execution_count": 824,
      "metadata": {
        "pycharm": {
          "name": "#%%\n"
        },
        "id": "tIA9h63FA6D3"
      },
      "outputs": [],
      "source": [
        "# Dropping the WITHDRAWN and CERTIFIED-WITHDRAWN rows from CASE_STATUS as we dont need them and Encoding the CERTIFIED as 1 & DENIED as 0\n",
        "\n",
        "visa_data.drop(visa_data[visa_data['CASE_STATUS']=='WITHDRAWN'].index, inplace=True)\n",
        "visa_data.drop(visa_data[visa_data['CASE_STATUS']=='CERTIFIED-WITHDRAWN'].index, inplace=True)\n",
        "visa_data['CASE_STATUS'].replace({'CERTIFIED':1, 'DENIED':0}, inplace=True)"
      ]
    },
    {
      "cell_type": "markdown",
      "metadata": {
        "id": "GhZtfciAA6D4"
      },
      "source": [
        "Handling the data or Pre - Processing the data for every particular feature"
      ]
    },
    {
      "cell_type": "code",
      "execution_count": 825,
      "metadata": {
        "pycharm": {
          "name": "#%%\n"
        },
        "id": "8xYikufYA6D4",
        "colab": {
          "base_uri": "https://localhost:8080/"
        },
        "outputId": "3d0a137b-d633-431a-82b2-2d19b0a94f96"
      },
      "outputs": [
        {
          "output_type": "execute_result",
          "data": {
            "text/plain": [
              "Int64Index([], dtype='int64')"
            ]
          },
          "metadata": {},
          "execution_count": 825
        }
      ],
      "source": [
        "# Checking the format of CASE_NUMBER entries\n",
        "visa_data[visa_data['CASE_NUMBER'].str.match(\"I-[0-9][0-9][0-9]-[0-9][0-9][0-9][0-9][0-9]-[0-9][0-9][0-9][0-9][0-9][0-9]\")==False].index \n",
        "\n",
        "# Checking the format of SOC_CODE entries\n",
        "visa_data[visa_data['SOC_CODE'].str.match(\"[0-9][0-9]-[0-9][0-9][0-9][0-9]\")==False].index \n",
        "#visa_data.at[664611, 'SOC_CODE'], visa_data.at[664611, 'SOC_TITLE'] = visa_data.at[664611, 'SOC_TITLE'], visa_data.at[664611, 'SOC_CODE'] #Resolved it"
      ]
    },
    {
      "cell_type": "code",
      "execution_count": 826,
      "metadata": {
        "pycharm": {
          "name": "#%%\n"
        },
        "id": "kTzpGtsLA6D5"
      },
      "outputs": [],
      "source": [
        "# Pushing SOC_CODE and SOC_TITLE to those who dont have any \n",
        "\n",
        "visa_data.at[664612, 'SOC_CODE'], visa_data.at[664612, 'SOC_TITLE']='15-1132', 'SOFTWARE DEVELOPERS, APPLICATIONS'\n",
        "visa_data.at[664614, 'SOC_CODE'], visa_data.at[664614, 'SOC_TITLE']='15-1132', 'SOFTWARE DEVELOPERS, APPLICATIONS'\n",
        "\n",
        "visa_data.at[664613, 'SOC_CODE'], visa_data.at[664613, 'SOC_TITLE']='15-1121', 'COMPUTER SYSTEMS ANALYSTS'\n",
        "visa_data.at[664615, 'SOC_CODE'], visa_data.at[664615, 'SOC_TITLE']='15-1121', 'COMPUTER SYSTEMS ANALYSTS'"
      ]
    },
    {
      "cell_type": "code",
      "execution_count": 827,
      "metadata": {
        "pycharm": {
          "name": "#%%\n"
        },
        "id": "kosr5tvQA6D6",
        "colab": {
          "base_uri": "https://localhost:8080/"
        },
        "outputId": "fd276ec0-8770-4066-902d-3b63e0d04915"
      },
      "outputs": [
        {
          "output_type": "execute_result",
          "data": {
            "text/plain": [
              "Int64Index([], dtype='int64')"
            ]
          },
          "metadata": {},
          "execution_count": 827
        }
      ],
      "source": [
        "# Checking null values in 'FULL_TIME_POSITION' column\n",
        "\n",
        "visa_data[visa_data['FULL_TIME_POSITION'].str.match(\"Y|N\")==False].index"
      ]
    },
    {
      "cell_type": "code",
      "execution_count": 828,
      "metadata": {
        "pycharm": {
          "name": "#%%\n"
        },
        "id": "Jo0qKCB-A6D6"
      },
      "outputs": [],
      "source": [
        "# Checking null values in 'NEW_CONCURRENT_EMPLOYMENT' column\n",
        "\n",
        "visa_data[visa_data['NEW_CONCURRENT_EMPLOYMENT'].isnull()].index \n",
        "visa_data.drop(307174, inplace=True) # resolved it\n",
        "visa_data.drop(664612, inplace=True)\n",
        "visa_data.drop(664613, inplace=True)\n",
        "visa_data.drop(664614, inplace=True)\n",
        "visa_data.drop(664615, inplace=True)"
      ]
    },
    {
      "cell_type": "code",
      "source": [
        ""
      ],
      "metadata": {
        "id": "cowJetRzwmaV"
      },
      "execution_count": 828,
      "outputs": []
    },
    {
      "cell_type": "code",
      "execution_count": 829,
      "metadata": {
        "pycharm": {
          "name": "#%%\n"
        },
        "id": "K5UEgUmsA6D7"
      },
      "outputs": [],
      "source": [
        "# Checking null values in ''CHANGE_EMPLOYER'' column\n",
        "\n",
        "visa_data[visa_data['CHANGE_EMPLOYER'].isnull()].index \n",
        "\n",
        "# Checking null values in 'AMENDED_PETITION' column\n",
        "\n",
        "visa_data[visa_data['AMENDED_PETITION'].isnull()].index \n",
        "\n",
        "# Checking null values in 'EMPLOYER_NAME' column\n",
        "\n",
        "visa_data[visa_data['EMPLOYER_NAME'].isnull()].index \n",
        "visa_data.drop(visa_data[visa_data['EMPLOYER_NAME'].isnull()].index, inplace=True)"
      ]
    },
    {
      "cell_type": "code",
      "execution_count": 830,
      "metadata": {
        "pycharm": {
          "name": "#%%\n"
        },
        "id": "ZNi6kuyZA6D7"
      },
      "outputs": [],
      "source": [
        "# Checking null values in 'NAICS_CODE' column\n",
        "\n",
        "visa_data[visa_data['NAICS_CODE'].isnull()].index \n",
        "visa_data.at[12712, 'NAICS_CODE'] = 522110.0 "
      ]
    },
    {
      "cell_type": "code",
      "source": [
        "visa_data['NAICS_CODE'].mean()"
      ],
      "metadata": {
        "id": "X41q1PmQFkMd",
        "colab": {
          "base_uri": "https://localhost:8080/"
        },
        "outputId": "4b4f3f4b-1c85-473c-9680-7478f9ff26fd"
      },
      "execution_count": 831,
      "outputs": [
        {
          "output_type": "execute_result",
          "data": {
            "text/plain": [
              "444241.191482155"
            ]
          },
          "metadata": {},
          "execution_count": 831
        }
      ]
    },
    {
      "cell_type": "code",
      "execution_count": 832,
      "metadata": {
        "pycharm": {
          "name": "#%%\n"
        },
        "id": "8HbaWsqgA6D8"
      },
      "outputs": [],
      "source": [
        "# Checking null values in 'AGENT_REPRESENTING_EMPLOYER' column\n",
        "\n",
        "visa_data[visa_data['AGENT_REPRESENTING_EMPLOYER'].isnull()].index \n",
        "visa_data.drop(visa_data[visa_data['AGENT_REPRESENTING_EMPLOYER'].isnull()].index, inplace=True) "
      ]
    },
    {
      "cell_type": "code",
      "execution_count": 833,
      "metadata": {
        "pycharm": {
          "name": "#%%\n"
        },
        "id": "60X-zZPSA6D8"
      },
      "outputs": [],
      "source": [
        "# Converted cell values from string to float  in \"CONTINUED_EMPLOYMENT\" column\n",
        "\n",
        "visa_data[\"CONTINUED_EMPLOYMENT\"] = visa_data[\"CONTINUED_EMPLOYMENT\"].astype(float, copy=True, errors='ignore')"
      ]
    },
    {
      "cell_type": "code",
      "execution_count": 834,
      "metadata": {
        "pycharm": {
          "name": "#%%\n"
        },
        "id": "WF55zc29A6D9",
        "colab": {
          "base_uri": "https://localhost:8080/",
          "height": 160
        },
        "outputId": "09120ed8-951a-4f01-9c25-d0a9cc0608d9"
      },
      "outputs": [
        {
          "output_type": "execute_result",
          "data": {
            "text/html": [
              "\n",
              "  <div id=\"df-603b9f00-e5a2-4570-b141-108d76680519\">\n",
              "    <div class=\"colab-df-container\">\n",
              "      <div>\n",
              "<style scoped>\n",
              "    .dataframe tbody tr th:only-of-type {\n",
              "        vertical-align: middle;\n",
              "    }\n",
              "\n",
              "    .dataframe tbody tr th {\n",
              "        vertical-align: top;\n",
              "    }\n",
              "\n",
              "    .dataframe thead th {\n",
              "        text-align: right;\n",
              "    }\n",
              "</style>\n",
              "<table border=\"1\" class=\"dataframe\">\n",
              "  <thead>\n",
              "    <tr style=\"text-align: right;\">\n",
              "      <th></th>\n",
              "      <th>CASE_NUMBER</th>\n",
              "      <th>CASE_STATUS</th>\n",
              "      <th>VISA_CLASS</th>\n",
              "      <th>JOB_TITLE</th>\n",
              "      <th>SOC_CODE</th>\n",
              "      <th>SOC_TITLE</th>\n",
              "      <th>FULL_TIME_POSITION</th>\n",
              "      <th>TOTAL_WORKER_POSITIONS</th>\n",
              "      <th>NEW_EMPLOYMENT</th>\n",
              "      <th>CONTINUED_EMPLOYMENT</th>\n",
              "      <th>...</th>\n",
              "      <th>WAGE_UNIT_OF_PAY_8</th>\n",
              "      <th>SECONDARY_ENTITY_9</th>\n",
              "      <th>WAGE_RATE_OF_PAY_FROM_9</th>\n",
              "      <th>WAGE_UNIT_OF_PAY_9</th>\n",
              "      <th>SECONDARY_ENTITY_10</th>\n",
              "      <th>WAGE_RATE_OF_PAY_FROM_10</th>\n",
              "      <th>WAGE_UNIT_OF_PAY_10</th>\n",
              "      <th>H-1B_DEPENDENT</th>\n",
              "      <th>WILLFUL_VIOLATOR</th>\n",
              "      <th>SUPPORT_H1B</th>\n",
              "    </tr>\n",
              "  </thead>\n",
              "  <tbody>\n",
              "  </tbody>\n",
              "</table>\n",
              "<p>0 rows × 50 columns</p>\n",
              "</div>\n",
              "      <button class=\"colab-df-convert\" onclick=\"convertToInteractive('df-603b9f00-e5a2-4570-b141-108d76680519')\"\n",
              "              title=\"Convert this dataframe to an interactive table.\"\n",
              "              style=\"display:none;\">\n",
              "        \n",
              "  <svg xmlns=\"http://www.w3.org/2000/svg\" height=\"24px\"viewBox=\"0 0 24 24\"\n",
              "       width=\"24px\">\n",
              "    <path d=\"M0 0h24v24H0V0z\" fill=\"none\"/>\n",
              "    <path d=\"M18.56 5.44l.94 2.06.94-2.06 2.06-.94-2.06-.94-.94-2.06-.94 2.06-2.06.94zm-11 1L8.5 8.5l.94-2.06 2.06-.94-2.06-.94L8.5 2.5l-.94 2.06-2.06.94zm10 10l.94 2.06.94-2.06 2.06-.94-2.06-.94-.94-2.06-.94 2.06-2.06.94z\"/><path d=\"M17.41 7.96l-1.37-1.37c-.4-.4-.92-.59-1.43-.59-.52 0-1.04.2-1.43.59L10.3 9.45l-7.72 7.72c-.78.78-.78 2.05 0 2.83L4 21.41c.39.39.9.59 1.41.59.51 0 1.02-.2 1.41-.59l7.78-7.78 2.81-2.81c.8-.78.8-2.07 0-2.86zM5.41 20L4 18.59l7.72-7.72 1.47 1.35L5.41 20z\"/>\n",
              "  </svg>\n",
              "      </button>\n",
              "      \n",
              "  <style>\n",
              "    .colab-df-container {\n",
              "      display:flex;\n",
              "      flex-wrap:wrap;\n",
              "      gap: 12px;\n",
              "    }\n",
              "\n",
              "    .colab-df-convert {\n",
              "      background-color: #E8F0FE;\n",
              "      border: none;\n",
              "      border-radius: 50%;\n",
              "      cursor: pointer;\n",
              "      display: none;\n",
              "      fill: #1967D2;\n",
              "      height: 32px;\n",
              "      padding: 0 0 0 0;\n",
              "      width: 32px;\n",
              "    }\n",
              "\n",
              "    .colab-df-convert:hover {\n",
              "      background-color: #E2EBFA;\n",
              "      box-shadow: 0px 1px 2px rgba(60, 64, 67, 0.3), 0px 1px 3px 1px rgba(60, 64, 67, 0.15);\n",
              "      fill: #174EA6;\n",
              "    }\n",
              "\n",
              "    [theme=dark] .colab-df-convert {\n",
              "      background-color: #3B4455;\n",
              "      fill: #D2E3FC;\n",
              "    }\n",
              "\n",
              "    [theme=dark] .colab-df-convert:hover {\n",
              "      background-color: #434B5C;\n",
              "      box-shadow: 0px 1px 3px 1px rgba(0, 0, 0, 0.15);\n",
              "      filter: drop-shadow(0px 1px 2px rgba(0, 0, 0, 0.3));\n",
              "      fill: #FFFFFF;\n",
              "    }\n",
              "  </style>\n",
              "\n",
              "      <script>\n",
              "        const buttonEl =\n",
              "          document.querySelector('#df-603b9f00-e5a2-4570-b141-108d76680519 button.colab-df-convert');\n",
              "        buttonEl.style.display =\n",
              "          google.colab.kernel.accessAllowed ? 'block' : 'none';\n",
              "\n",
              "        async function convertToInteractive(key) {\n",
              "          const element = document.querySelector('#df-603b9f00-e5a2-4570-b141-108d76680519');\n",
              "          const dataTable =\n",
              "            await google.colab.kernel.invokeFunction('convertToInteractive',\n",
              "                                                     [key], {});\n",
              "          if (!dataTable) return;\n",
              "\n",
              "          const docLinkHtml = 'Like what you see? Visit the ' +\n",
              "            '<a target=\"_blank\" href=https://colab.research.google.com/notebooks/data_table.ipynb>data table notebook</a>'\n",
              "            + ' to learn more about interactive tables.';\n",
              "          element.innerHTML = '';\n",
              "          dataTable['output_type'] = 'display_data';\n",
              "          await google.colab.output.renderOutput(dataTable, element);\n",
              "          const docLink = document.createElement('div');\n",
              "          docLink.innerHTML = docLinkHtml;\n",
              "          element.appendChild(docLink);\n",
              "        }\n",
              "      </script>\n",
              "    </div>\n",
              "  </div>\n",
              "  "
            ],
            "text/plain": [
              "Empty DataFrame\n",
              "Columns: [CASE_NUMBER, CASE_STATUS, VISA_CLASS, JOB_TITLE, SOC_CODE, SOC_TITLE, FULL_TIME_POSITION, TOTAL_WORKER_POSITIONS, NEW_EMPLOYMENT, CONTINUED_EMPLOYMENT, CHANGE_PREVIOUS_EMPLOYMENT, NEW_CONCURRENT_EMPLOYMENT, CHANGE_EMPLOYER, AMENDED_PETITION, EMPLOYER_NAME, NAICS_CODE, AGENT_REPRESENTING_EMPLOYER, SECONDARY_ENTITY_1, WAGE_RATE_OF_PAY_FROM_1, WAGE_UNIT_OF_PAY_1, SECONDARY_ENTITY_2, WAGE_RATE_OF_PAY_FROM_2, WAGE_UNIT_OF_PAY_2, SECONDARY_ENTITY_3, WAGE_RATE_OF_PAY_FROM_3, WAGE_UNIT_OF_PAY_3, SECONDARY_ENTITY_4, WAGE_RATE_OF_PAY_FROM_4, WAGE_UNIT_OF_PAY_4, SECONDARY_ENTITY_5, WAGE_RATE_OF_PAY_FROM_5, WAGE_UNIT_OF_PAY_5, SECONDARY_ENTITY_6, WAGE_RATE_OF_PAY_FROM_6, WAGE_UNIT_OF_PAY_6, SECONDARY_ENTITY_7, WAGE_RATE_OF_PAY_FROM_7, WAGE_UNIT_OF_PAY_7, SECONDARY_ENTITY_8, WAGE_RATE_OF_PAY_FROM_8, WAGE_UNIT_OF_PAY_8, SECONDARY_ENTITY_9, WAGE_RATE_OF_PAY_FROM_9, WAGE_UNIT_OF_PAY_9, SECONDARY_ENTITY_10, WAGE_RATE_OF_PAY_FROM_10, WAGE_UNIT_OF_PAY_10, H-1B_DEPENDENT, WILLFUL_VIOLATOR, SUPPORT_H1B]\n",
              "Index: []\n",
              "\n",
              "[0 rows x 50 columns]"
            ]
          },
          "metadata": {},
          "execution_count": 834
        }
      ],
      "source": [
        "# Secondary_entity will be 'Y', if the 'WAGE_RATE_OF_PAY_FROM' and 'WAGE_UNIT_OF_PAY' is not null.\n",
        "\n",
        "visa_data.loc[(visa_data['WAGE_RATE_OF_PAY_FROM_1'].notnull()) & (visa_data['SECONDARY_ENTITY_1'].isnull()), \"SECONDARY_ENTITY_1\"] = \"Y\"\n",
        "visa_data.loc[(visa_data['WAGE_RATE_OF_PAY_FROM_2'].notnull()) & (visa_data['SECONDARY_ENTITY_2'].isnull()), \"SECONDARY_ENTITY_2\"] = \"Y\"\n",
        "visa_data.loc[(visa_data['WAGE_RATE_OF_PAY_FROM_3'].notnull()) & (visa_data['SECONDARY_ENTITY_3'].isnull()), \"SECONDARY_ENTITY_3\"] = \"Y\"\n",
        "visa_data[(visa_data['WAGE_RATE_OF_PAY_FROM_4'].notnull()) & (visa_data['SECONDARY_ENTITY_4'].isnull())] \n",
        "visa_data[(visa_data['WAGE_RATE_OF_PAY_FROM_5'].notnull()) & (visa_data['SECONDARY_ENTITY_5'].isnull())] \n",
        "visa_data[(visa_data['WAGE_RATE_OF_PAY_FROM_7'].notnull()) & (visa_data['SECONDARY_ENTITY_7'].isnull())] \n",
        "visa_data[(visa_data['WAGE_RATE_OF_PAY_FROM_8'].notnull()) & (visa_data['SECONDARY_ENTITY_8'].isnull())] \n",
        "visa_data[(visa_data['WAGE_RATE_OF_PAY_FROM_9'].notnull()) & (visa_data['SECONDARY_ENTITY_9'].isnull())]\n",
        "visa_data[(visa_data['WAGE_RATE_OF_PAY_FROM_10'].notnull()) & (visa_data['SECONDARY_ENTITY_10'].isnull())] "
      ]
    },
    {
      "cell_type": "code",
      "execution_count": 835,
      "metadata": {
        "pycharm": {
          "name": "#%%\n"
        },
        "id": "_sFbqQ5sA6D9",
        "colab": {
          "base_uri": "https://localhost:8080/"
        },
        "outputId": "272f1fb2-01e8-4198-eb0b-701248e06d76"
      },
      "outputs": [
        {
          "output_type": "execute_result",
          "data": {
            "text/plain": [
              "0"
            ]
          },
          "metadata": {},
          "execution_count": 835
        }
      ],
      "source": [
        "# Removing null values of 'SECONDARY_ENTITY_1'\n",
        "\n",
        "S1= (visa_data['SECONDARY_ENTITY_1'].isnull()) & (visa_data['SECONDARY_ENTITY_2'].isnull()) &(visa_data['SECONDARY_ENTITY_3'].isnull()) &(visa_data['SECONDARY_ENTITY_4'].isnull()) &(visa_data['SECONDARY_ENTITY_5'].isnull()) &(visa_data['SECONDARY_ENTITY_6'].isnull()) &(visa_data['SECONDARY_ENTITY_7'].isnull()) &(visa_data['SECONDARY_ENTITY_8'].isnull()) &(visa_data['SECONDARY_ENTITY_9'].isnull()) &(visa_data['SECONDARY_ENTITY_10'].isnull()) & (visa_data['WAGE_UNIT_OF_PAY_1']).isnull() & (visa_data['WAGE_UNIT_OF_PAY_2']).isnull() &(visa_data['WAGE_UNIT_OF_PAY_3']).isnull() &(visa_data['WAGE_UNIT_OF_PAY_4']).isnull() &(visa_data['WAGE_UNIT_OF_PAY_5']).isnull() &(visa_data['WAGE_UNIT_OF_PAY_6']).isnull() &(visa_data['WAGE_UNIT_OF_PAY_7']).isnull() &(visa_data['WAGE_UNIT_OF_PAY_8']).isnull() &(visa_data['WAGE_UNIT_OF_PAY_9']).isnull() &(visa_data['WAGE_UNIT_OF_PAY_10']).isnull() & (visa_data['WAGE_RATE_OF_PAY_FROM_1']).isnull()& (visa_data['WAGE_RATE_OF_PAY_FROM_2']).isnull() &(visa_data['WAGE_RATE_OF_PAY_FROM_3']).isnull() &(visa_data['WAGE_RATE_OF_PAY_FROM_4']).isnull() &(visa_data['WAGE_RATE_OF_PAY_FROM_5']).isnull() &(visa_data['WAGE_RATE_OF_PAY_FROM_6']).isnull() &(visa_data['WAGE_RATE_OF_PAY_FROM_7']).isnull() &(visa_data['WAGE_RATE_OF_PAY_FROM_8']).isnull() &(visa_data['WAGE_RATE_OF_PAY_FROM_9']).isnull() &(visa_data['WAGE_RATE_OF_PAY_FROM_10']).isnull()\n",
        "\n",
        "visa_data.loc[S1, 'SECONDARY_ENTITY_1']='N'\n",
        "visa_data.loc[S1, 'SECONDARY_ENTITY_2']='N'\n",
        "visa_data.loc[S1, 'SECONDARY_ENTITY_3']='N'\n",
        "visa_data.loc[S1, 'SECONDARY_ENTITY_4']='N'\n",
        "visa_data.loc[S1, 'SECONDARY_ENTITY_5']='N'\n",
        "visa_data.loc[S1, 'SECONDARY_ENTITY_6']='N'\n",
        "visa_data.loc[S1, 'SECONDARY_ENTITY_7']='N'\n",
        "visa_data.loc[S1, 'SECONDARY_ENTITY_8']='N'\n",
        "visa_data.loc[S1, 'SECONDARY_ENTITY_9']='N'\n",
        "visa_data.loc[S1, 'SECONDARY_ENTITY_10']='N'\n",
        "\n",
        "\n",
        "\n",
        "visa_data['SECONDARY_ENTITY_1'].isnull().sum()"
      ]
    },
    {
      "cell_type": "code",
      "execution_count": 836,
      "metadata": {
        "pycharm": {
          "name": "#%%\n"
        },
        "id": "9ZgcENIKA6D-",
        "colab": {
          "base_uri": "https://localhost:8080/"
        },
        "outputId": "81a56b18-da77-4a59-fe9a-4d17322d9070"
      },
      "outputs": [
        {
          "output_type": "execute_result",
          "data": {
            "text/plain": [
              "0"
            ]
          },
          "metadata": {},
          "execution_count": 836
        }
      ],
      "source": [
        "# Removing null values of 'SECONDARY_ENTITY_2'\n",
        "\n",
        "S2 = (visa_data['SECONDARY_ENTITY_2'].isnull()) &(visa_data['SECONDARY_ENTITY_3'].isnull()) &(visa_data['SECONDARY_ENTITY_4'].isnull()) &(visa_data['SECONDARY_ENTITY_5'].isnull()) &(visa_data['SECONDARY_ENTITY_6'].isnull()) &(visa_data['SECONDARY_ENTITY_7'].isnull()) &(visa_data['SECONDARY_ENTITY_8'].isnull()) &(visa_data['SECONDARY_ENTITY_9'].isnull()) &(visa_data['SECONDARY_ENTITY_10'].isnull())  & (visa_data['WAGE_UNIT_OF_PAY_2']).isnull() &(visa_data['WAGE_UNIT_OF_PAY_3']).isnull() &(visa_data['WAGE_UNIT_OF_PAY_4']).isnull() &(visa_data['WAGE_UNIT_OF_PAY_5']).isnull() &(visa_data['WAGE_UNIT_OF_PAY_6']).isnull() &(visa_data['WAGE_UNIT_OF_PAY_7']).isnull() &(visa_data['WAGE_UNIT_OF_PAY_8']).isnull() &(visa_data['WAGE_UNIT_OF_PAY_9']).isnull() &(visa_data['WAGE_UNIT_OF_PAY_10']).isnull() &  (visa_data['WAGE_RATE_OF_PAY_FROM_2']).isnull() &(visa_data['WAGE_RATE_OF_PAY_FROM_3']).isnull() &(visa_data['WAGE_RATE_OF_PAY_FROM_4']).isnull() &(visa_data['WAGE_RATE_OF_PAY_FROM_5']).isnull() &(visa_data['WAGE_RATE_OF_PAY_FROM_6']).isnull() &(visa_data['WAGE_RATE_OF_PAY_FROM_7']).isnull() &(visa_data['WAGE_RATE_OF_PAY_FROM_8']).isnull() &(visa_data['WAGE_RATE_OF_PAY_FROM_9']).isnull() &(visa_data['WAGE_RATE_OF_PAY_FROM_10']).isnull()\n",
        "\n",
        "visa_data.loc[S2, 'SECONDARY_ENTITY_1']='N'\n",
        "visa_data.loc[S2, 'SECONDARY_ENTITY_2']='N'\n",
        "visa_data.loc[S2, 'SECONDARY_ENTITY_3']='N'\n",
        "visa_data.loc[S2, 'SECONDARY_ENTITY_4']='N'\n",
        "visa_data.loc[S2, 'SECONDARY_ENTITY_5']='N'\n",
        "visa_data.loc[S2, 'SECONDARY_ENTITY_6']='N'\n",
        "visa_data.loc[S2, 'SECONDARY_ENTITY_7']='N'\n",
        "visa_data.loc[S2, 'SECONDARY_ENTITY_8']='N'\n",
        "visa_data.loc[S2, 'SECONDARY_ENTITY_9']='N'\n",
        "visa_data.loc[S2, 'SECONDARY_ENTITY_10']='N'\n",
        "\n",
        "visa_data['SECONDARY_ENTITY_2'].isnull().sum()"
      ]
    },
    {
      "cell_type": "code",
      "execution_count": 837,
      "metadata": {
        "pycharm": {
          "name": "#%%\n"
        },
        "id": "WnRKhfc7A6D-",
        "colab": {
          "base_uri": "https://localhost:8080/"
        },
        "outputId": "cbd90499-12dc-4561-9446-c463fdf66cf6"
      },
      "outputs": [
        {
          "output_type": "execute_result",
          "data": {
            "text/plain": [
              "0"
            ]
          },
          "metadata": {},
          "execution_count": 837
        }
      ],
      "source": [
        "# Removing null values of 'SECONDARY_ENTITY_3'\n",
        "\n",
        "S3 = (visa_data['SECONDARY_ENTITY_3'].isnull()) &(visa_data['SECONDARY_ENTITY_4'].isnull()) &(visa_data['SECONDARY_ENTITY_5'].isnull()) &(visa_data['SECONDARY_ENTITY_6'].isnull()) &(visa_data['SECONDARY_ENTITY_7'].isnull()) &(visa_data['SECONDARY_ENTITY_8'].isnull()) &(visa_data['SECONDARY_ENTITY_9'].isnull()) &(visa_data['SECONDARY_ENTITY_10'].isnull())  & (visa_data['WAGE_UNIT_OF_PAY_3']).isnull() &(visa_data['WAGE_UNIT_OF_PAY_4']).isnull() &(visa_data['WAGE_UNIT_OF_PAY_5']).isnull() &(visa_data['WAGE_UNIT_OF_PAY_6']).isnull() &(visa_data['WAGE_UNIT_OF_PAY_7']).isnull() &(visa_data['WAGE_UNIT_OF_PAY_8']).isnull() &(visa_data['WAGE_UNIT_OF_PAY_9']).isnull() &(visa_data['WAGE_UNIT_OF_PAY_10']).isnull() &  (visa_data['WAGE_RATE_OF_PAY_FROM_3']).isnull() &(visa_data['WAGE_RATE_OF_PAY_FROM_4']).isnull() &(visa_data['WAGE_RATE_OF_PAY_FROM_5']).isnull() &(visa_data['WAGE_RATE_OF_PAY_FROM_6']).isnull() &(visa_data['WAGE_RATE_OF_PAY_FROM_7']).isnull() &(visa_data['WAGE_RATE_OF_PAY_FROM_8']).isnull() &(visa_data['WAGE_RATE_OF_PAY_FROM_9']).isnull() &(visa_data['WAGE_RATE_OF_PAY_FROM_10']).isnull()\n",
        "\n",
        "\n",
        "visa_data.loc[S3, 'SECONDARY_ENTITY_1']='N'\n",
        "visa_data.loc[S3, 'SECONDARY_ENTITY_2']='N'\n",
        "visa_data.loc[S3, 'SECONDARY_ENTITY_3']='N'\n",
        "visa_data.loc[S3, 'SECONDARY_ENTITY_4']='N'\n",
        "visa_data.loc[S3, 'SECONDARY_ENTITY_5']='N'\n",
        "visa_data.loc[S3, 'SECONDARY_ENTITY_6']='N'\n",
        "visa_data.loc[S3, 'SECONDARY_ENTITY_7']='N'\n",
        "visa_data.loc[S3, 'SECONDARY_ENTITY_8']='N'\n",
        "visa_data.loc[S3, 'SECONDARY_ENTITY_9']='N'\n",
        "visa_data.loc[S3, 'SECONDARY_ENTITY_10']='N'\n",
        "\n",
        "visa_data['SECONDARY_ENTITY_3'].isnull().sum()"
      ]
    },
    {
      "cell_type": "code",
      "execution_count": 838,
      "metadata": {
        "pycharm": {
          "name": "#%%\n"
        },
        "id": "1tDeWfjEA6D_",
        "colab": {
          "base_uri": "https://localhost:8080/"
        },
        "outputId": "dbef15af-d383-44aa-ebec-408748bed5e0"
      },
      "outputs": [
        {
          "output_type": "execute_result",
          "data": {
            "text/plain": [
              "0"
            ]
          },
          "metadata": {},
          "execution_count": 838
        }
      ],
      "source": [
        "# Removing null values of 'SECONDARY_ENTITY_4'\n",
        "\n",
        "S4 = (visa_data['SECONDARY_ENTITY_4'].isnull()) &(visa_data['SECONDARY_ENTITY_5'].isnull()) &(visa_data['SECONDARY_ENTITY_6'].isnull()) &(visa_data['SECONDARY_ENTITY_7'].isnull()) &(visa_data['SECONDARY_ENTITY_8'].isnull()) &(visa_data['SECONDARY_ENTITY_9'].isnull()) &(visa_data['SECONDARY_ENTITY_10'].isnull()) &(visa_data['WAGE_UNIT_OF_PAY_4']).isnull() &(visa_data['WAGE_UNIT_OF_PAY_5']).isnull() &(visa_data['WAGE_UNIT_OF_PAY_6']).isnull() &(visa_data['WAGE_UNIT_OF_PAY_7']).isnull() &(visa_data['WAGE_UNIT_OF_PAY_8']).isnull() &(visa_data['WAGE_UNIT_OF_PAY_9']).isnull() &(visa_data['WAGE_UNIT_OF_PAY_10']).isnull()  &(visa_data['WAGE_RATE_OF_PAY_FROM_4']).isnull() &(visa_data['WAGE_RATE_OF_PAY_FROM_5']).isnull() &(visa_data['WAGE_RATE_OF_PAY_FROM_6']).isnull() &(visa_data['WAGE_RATE_OF_PAY_FROM_7']).isnull() &(visa_data['WAGE_RATE_OF_PAY_FROM_8']).isnull() &(visa_data['WAGE_RATE_OF_PAY_FROM_9']).isnull() &(visa_data['WAGE_RATE_OF_PAY_FROM_10']).isnull()\n",
        "\n",
        "visa_data.loc[S4, 'SECONDARY_ENTITY_1']='N'\n",
        "visa_data.loc[S4, 'SECONDARY_ENTITY_2']='N'\n",
        "visa_data.loc[S4, 'SECONDARY_ENTITY_3']='N'\n",
        "visa_data.loc[S4, 'SECONDARY_ENTITY_4']='N'\n",
        "visa_data.loc[S4, 'SECONDARY_ENTITY_5']='N'\n",
        "visa_data.loc[S4, 'SECONDARY_ENTITY_6']='N'\n",
        "visa_data.loc[S4, 'SECONDARY_ENTITY_7']='N'\n",
        "visa_data.loc[S4, 'SECONDARY_ENTITY_8']='N'\n",
        "visa_data.loc[S4, 'SECONDARY_ENTITY_9']='N'\n",
        "visa_data.loc[S4, 'SECONDARY_ENTITY_10']='N'\n",
        "\n",
        "visa_data['SECONDARY_ENTITY_4'].isnull().sum()"
      ]
    },
    {
      "cell_type": "code",
      "execution_count": 839,
      "metadata": {
        "pycharm": {
          "name": "#%%\n"
        },
        "id": "1c3Dk4H6A6D_",
        "colab": {
          "base_uri": "https://localhost:8080/"
        },
        "outputId": "f911cd0b-5a36-47a0-ab09-6e2e762a405f"
      },
      "outputs": [
        {
          "output_type": "execute_result",
          "data": {
            "text/plain": [
              "0"
            ]
          },
          "metadata": {},
          "execution_count": 839
        }
      ],
      "source": [
        "# Removing null values of 'SECONDARY_ENTITY_5'\n",
        "\n",
        "S5 = (visa_data['SECONDARY_ENTITY_5'].isnull()) &(visa_data['SECONDARY_ENTITY_6'].isnull()) &(visa_data['SECONDARY_ENTITY_7'].isnull()) &(visa_data['SECONDARY_ENTITY_8'].isnull()) &(visa_data['SECONDARY_ENTITY_9'].isnull()) &(visa_data['SECONDARY_ENTITY_10'].isnull())  &(visa_data['WAGE_UNIT_OF_PAY_5']).isnull() &(visa_data['WAGE_UNIT_OF_PAY_6']).isnull() &(visa_data['WAGE_UNIT_OF_PAY_7']).isnull() &(visa_data['WAGE_UNIT_OF_PAY_8']).isnull() &(visa_data['WAGE_UNIT_OF_PAY_9']).isnull() &(visa_data['WAGE_UNIT_OF_PAY_10']).isnull()  &(visa_data['WAGE_RATE_OF_PAY_FROM_5']).isnull() &(visa_data['WAGE_RATE_OF_PAY_FROM_6']).isnull() &(visa_data['WAGE_RATE_OF_PAY_FROM_7']).isnull() &(visa_data['WAGE_RATE_OF_PAY_FROM_8']).isnull() &(visa_data['WAGE_RATE_OF_PAY_FROM_9']).isnull() &(visa_data['WAGE_RATE_OF_PAY_FROM_10']).isnull()\n",
        "\n",
        "visa_data.loc[S5, 'SECONDARY_ENTITY_1']='N'\n",
        "visa_data.loc[S5, 'SECONDARY_ENTITY_2']='N'\n",
        "visa_data.loc[S5, 'SECONDARY_ENTITY_3']='N'\n",
        "visa_data.loc[S5, 'SECONDARY_ENTITY_4']='N'\n",
        "visa_data.loc[S5, 'SECONDARY_ENTITY_5']='N'\n",
        "visa_data.loc[S5, 'SECONDARY_ENTITY_6']='N'\n",
        "visa_data.loc[S5, 'SECONDARY_ENTITY_7']='N'\n",
        "visa_data.loc[S5, 'SECONDARY_ENTITY_8']='N'\n",
        "visa_data.loc[S5, 'SECONDARY_ENTITY_9']='N'\n",
        "visa_data.loc[S5, 'SECONDARY_ENTITY_10']='N'\n",
        "\n",
        "visa_data['SECONDARY_ENTITY_5'].isnull().sum()"
      ]
    },
    {
      "cell_type": "code",
      "execution_count": 840,
      "metadata": {
        "pycharm": {
          "name": "#%%\n"
        },
        "id": "P8v5JQiPA6EA",
        "colab": {
          "base_uri": "https://localhost:8080/"
        },
        "outputId": "79caedfa-48b3-4c13-e1c1-521e97103c15"
      },
      "outputs": [
        {
          "output_type": "execute_result",
          "data": {
            "text/plain": [
              "0"
            ]
          },
          "metadata": {},
          "execution_count": 840
        }
      ],
      "source": [
        "# Removing null values of 'SECONDARY_ENTITY_6'\n",
        "\n",
        "S6 = (visa_data['SECONDARY_ENTITY_6'].isnull()) &(visa_data['SECONDARY_ENTITY_7'].isnull()) &(visa_data['SECONDARY_ENTITY_8'].isnull()) &(visa_data['SECONDARY_ENTITY_9'].isnull()) &(visa_data['SECONDARY_ENTITY_10'].isnull())  &(visa_data['WAGE_UNIT_OF_PAY_6']).isnull() &(visa_data['WAGE_UNIT_OF_PAY_7']).isnull() &(visa_data['WAGE_UNIT_OF_PAY_8']).isnull() &(visa_data['WAGE_UNIT_OF_PAY_9']).isnull() &(visa_data['WAGE_UNIT_OF_PAY_10']).isnull() &(visa_data['WAGE_RATE_OF_PAY_FROM_6']).isnull() &(visa_data['WAGE_RATE_OF_PAY_FROM_7']).isnull() &(visa_data['WAGE_RATE_OF_PAY_FROM_8']).isnull() &(visa_data['WAGE_RATE_OF_PAY_FROM_9']).isnull() &(visa_data['WAGE_RATE_OF_PAY_FROM_10']).isnull()\n",
        "\n",
        "visa_data.loc[S6, 'SECONDARY_ENTITY_1']='N'\n",
        "visa_data.loc[S6, 'SECONDARY_ENTITY_2']='N'\n",
        "visa_data.loc[S6, 'SECONDARY_ENTITY_3']='N'\n",
        "visa_data.loc[S6, 'SECONDARY_ENTITY_4']='N'\n",
        "visa_data.loc[S6, 'SECONDARY_ENTITY_5']='N'\n",
        "visa_data.loc[S6, 'SECONDARY_ENTITY_6']='N'\n",
        "visa_data.loc[S6, 'SECONDARY_ENTITY_7']='N'\n",
        "visa_data.loc[S6, 'SECONDARY_ENTITY_8']='N'\n",
        "visa_data.loc[S6, 'SECONDARY_ENTITY_9']='N'\n",
        "visa_data.loc[S6, 'SECONDARY_ENTITY_10']='N'\n",
        "\n",
        "visa_data['SECONDARY_ENTITY_6'].isnull().sum()"
      ]
    },
    {
      "cell_type": "code",
      "execution_count": 841,
      "metadata": {
        "pycharm": {
          "name": "#%%\n"
        },
        "id": "hLHryY3FA6EA",
        "colab": {
          "base_uri": "https://localhost:8080/"
        },
        "outputId": "3b2c19a7-0110-46db-f4f8-056354738f16"
      },
      "outputs": [
        {
          "output_type": "execute_result",
          "data": {
            "text/plain": [
              "0"
            ]
          },
          "metadata": {},
          "execution_count": 841
        }
      ],
      "source": [
        "# Removing null values of 'SECONDARY_ENTITY_7'\n",
        "\n",
        "S7 = (visa_data['SECONDARY_ENTITY_7'].isnull()) &(visa_data['SECONDARY_ENTITY_8'].isnull()) &(visa_data['SECONDARY_ENTITY_9'].isnull()) &(visa_data['SECONDARY_ENTITY_10'].isnull()) &(visa_data['WAGE_UNIT_OF_PAY_7']).isnull() &(visa_data['WAGE_UNIT_OF_PAY_8']).isnull() &(visa_data['WAGE_UNIT_OF_PAY_9']).isnull() &(visa_data['WAGE_UNIT_OF_PAY_10']).isnull() &(visa_data['WAGE_RATE_OF_PAY_FROM_7']).isnull() &(visa_data['WAGE_RATE_OF_PAY_FROM_8']).isnull() &(visa_data['WAGE_RATE_OF_PAY_FROM_9']).isnull() &(visa_data['WAGE_RATE_OF_PAY_FROM_10']).isnull()\n",
        "\n",
        "visa_data.loc[S7, 'SECONDARY_ENTITY_1']='N'\n",
        "visa_data.loc[S7, 'SECONDARY_ENTITY_2']='N'\n",
        "visa_data.loc[S7, 'SECONDARY_ENTITY_3']='N'\n",
        "visa_data.loc[S7, 'SECONDARY_ENTITY_4']='N'\n",
        "visa_data.loc[S7, 'SECONDARY_ENTITY_5']='N'\n",
        "visa_data.loc[S7, 'SECONDARY_ENTITY_6']='N'\n",
        "visa_data.loc[S7, 'SECONDARY_ENTITY_7']='N'\n",
        "visa_data.loc[S7, 'SECONDARY_ENTITY_8']='N'\n",
        "visa_data.loc[S7, 'SECONDARY_ENTITY_9']='N'\n",
        "visa_data.loc[S7, 'SECONDARY_ENTITY_10']='N'\n",
        "\n",
        "\n",
        "visa_data['SECONDARY_ENTITY_7'].isnull().sum()"
      ]
    },
    {
      "cell_type": "code",
      "execution_count": 842,
      "metadata": {
        "pycharm": {
          "name": "#%%\n"
        },
        "id": "VK-HOnfdA6EB",
        "colab": {
          "base_uri": "https://localhost:8080/"
        },
        "outputId": "1840b760-74d3-4940-aa73-517c52f1086a"
      },
      "outputs": [
        {
          "output_type": "execute_result",
          "data": {
            "text/plain": [
              "0"
            ]
          },
          "metadata": {},
          "execution_count": 842
        }
      ],
      "source": [
        "# Removing null values of 'SECONDARY_ENTITY_8'\n",
        "\n",
        "S8 = (visa_data['SECONDARY_ENTITY_8'].isnull()) &(visa_data['SECONDARY_ENTITY_9'].isnull()) &(visa_data['SECONDARY_ENTITY_10'].isnull())  &(visa_data['WAGE_UNIT_OF_PAY_8']).isnull() &(visa_data['WAGE_UNIT_OF_PAY_9']).isnull() &(visa_data['WAGE_UNIT_OF_PAY_10']).isnull() &(visa_data['WAGE_RATE_OF_PAY_FROM_8']).isnull() &(visa_data['WAGE_RATE_OF_PAY_FROM_9']).isnull() &(visa_data['WAGE_RATE_OF_PAY_FROM_10']).isnull()\n",
        "\n",
        "visa_data.loc[S8, 'SECONDARY_ENTITY_1']='N'\n",
        "visa_data.loc[S8, 'SECONDARY_ENTITY_2']='N'\n",
        "visa_data.loc[S8, 'SECONDARY_ENTITY_3']='N'\n",
        "visa_data.loc[S8, 'SECONDARY_ENTITY_4']='N'\n",
        "visa_data.loc[S8, 'SECONDARY_ENTITY_5']='N'\n",
        "visa_data.loc[S8, 'SECONDARY_ENTITY_6']='N'\n",
        "visa_data.loc[S8, 'SECONDARY_ENTITY_7']='N'\n",
        "visa_data.loc[S8, 'SECONDARY_ENTITY_8']='N'\n",
        "visa_data.loc[S8, 'SECONDARY_ENTITY_9']='N'\n",
        "visa_data.loc[S8, 'SECONDARY_ENTITY_10']='N'\n",
        "\n",
        "\n",
        "visa_data['SECONDARY_ENTITY_8'].isnull().sum()"
      ]
    },
    {
      "cell_type": "code",
      "execution_count": 843,
      "metadata": {
        "pycharm": {
          "name": "#%%\n"
        },
        "id": "9tRtJCIbA6EB",
        "colab": {
          "base_uri": "https://localhost:8080/"
        },
        "outputId": "59ea564f-9210-464b-dcd9-f1cd9c4f29fc"
      },
      "outputs": [
        {
          "output_type": "execute_result",
          "data": {
            "text/plain": [
              "0"
            ]
          },
          "metadata": {},
          "execution_count": 843
        }
      ],
      "source": [
        "# Removing null values of 'SECONDARY_ENTITY_9'\n",
        "\n",
        "S9 = (visa_data['SECONDARY_ENTITY_9'].isnull()) &(visa_data['SECONDARY_ENTITY_10'].isnull())  &(visa_data['WAGE_UNIT_OF_PAY_9']).isnull() &(visa_data['WAGE_UNIT_OF_PAY_10']).isnull() &(visa_data['WAGE_RATE_OF_PAY_FROM_9']).isnull() &(visa_data['WAGE_RATE_OF_PAY_FROM_10']).isnull()\n",
        "\n",
        "visa_data.loc[S9, 'SECONDARY_ENTITY_1']='N'\n",
        "visa_data.loc[S9, 'SECONDARY_ENTITY_2']='N'\n",
        "visa_data.loc[S9, 'SECONDARY_ENTITY_3']='N'\n",
        "visa_data.loc[S9, 'SECONDARY_ENTITY_4']='N'\n",
        "visa_data.loc[S9, 'SECONDARY_ENTITY_5']='N'\n",
        "visa_data.loc[S9, 'SECONDARY_ENTITY_6']='N'\n",
        "visa_data.loc[S9, 'SECONDARY_ENTITY_7']='N'\n",
        "visa_data.loc[S9, 'SECONDARY_ENTITY_8']='N'\n",
        "visa_data.loc[S9, 'SECONDARY_ENTITY_9']='N'\n",
        "visa_data.loc[S9, 'SECONDARY_ENTITY_10']='N'\n",
        "\n",
        "visa_data['SECONDARY_ENTITY_9'].isnull().sum()"
      ]
    },
    {
      "cell_type": "code",
      "execution_count": 844,
      "metadata": {
        "pycharm": {
          "name": "#%%\n"
        },
        "id": "HVJtUHDSA6EB",
        "colab": {
          "base_uri": "https://localhost:8080/"
        },
        "outputId": "c80dac6c-c532-4f90-abc7-db8b48963f0f"
      },
      "outputs": [
        {
          "output_type": "execute_result",
          "data": {
            "text/plain": [
              "0"
            ]
          },
          "metadata": {},
          "execution_count": 844
        }
      ],
      "source": [
        "# Removing null values of 'SECONDARY_ENTITY_10'\n",
        "S10 = (visa_data['SECONDARY_ENTITY_10'].isnull()) &(visa_data['WAGE_UNIT_OF_PAY_10']).isnull()&(visa_data['WAGE_RATE_OF_PAY_FROM_10']).isnull()\n",
        "\n",
        "visa_data.loc[S10, 'SECONDARY_ENTITY_1']='N'\n",
        "visa_data.loc[S10, 'SECONDARY_ENTITY_2']='N'\n",
        "visa_data.loc[S10, 'SECONDARY_ENTITY_3']='N'\n",
        "visa_data.loc[S10, 'SECONDARY_ENTITY_4']='N'\n",
        "visa_data.loc[S10, 'SECONDARY_ENTITY_5']='N'\n",
        "visa_data.loc[S10, 'SECONDARY_ENTITY_6']='N'\n",
        "visa_data.loc[S10, 'SECONDARY_ENTITY_7']='N'\n",
        "visa_data.loc[S10, 'SECONDARY_ENTITY_8']='N'\n",
        "visa_data.loc[S10, 'SECONDARY_ENTITY_9']='N'\n",
        "visa_data.loc[S10, 'SECONDARY_ENTITY_9']='N'\n",
        "visa_data.loc[S10, 'SECONDARY_ENTITY_10']='N'\n",
        "\n",
        "\n",
        "visa_data['SECONDARY_ENTITY_10'].isnull().sum()"
      ]
    },
    {
      "cell_type": "code",
      "execution_count": 845,
      "metadata": {
        "pycharm": {
          "name": "#%%\n"
        },
        "id": "EnlDG8R7A6EC"
      },
      "outputs": [],
      "source": [
        "visa_data.loc[(visa_data['WAGE_RATE_OF_PAY_FROM_1'].notnull()) & (visa_data['SECONDARY_ENTITY_1']=='N'), 'SECONDARY_ENTITY_1']='Y'\n",
        "visa_data.loc[(visa_data['WAGE_RATE_OF_PAY_FROM_2'].notnull()) & (visa_data['SECONDARY_ENTITY_2']=='N'), 'SECONDARY_ENTITY_2']='Y'\n",
        "visa_data.loc[(visa_data['WAGE_RATE_OF_PAY_FROM_3'].notnull()) & (visa_data['SECONDARY_ENTITY_3']=='N'), 'SECONDARY_ENTITY_3']='Y'\n",
        "visa_data.loc[(visa_data['WAGE_RATE_OF_PAY_FROM_4'].notnull()) & (visa_data['SECONDARY_ENTITY_4']=='N'), 'SECONDARY_ENTITY_4']='Y'\n",
        "visa_data.loc[(visa_data['WAGE_RATE_OF_PAY_FROM_6'].notnull()) & (visa_data['SECONDARY_ENTITY_6']=='N'), 'SECONDARY_ENTITY_6']='Y'\n",
        "visa_data.loc[(visa_data['WAGE_RATE_OF_PAY_FROM_7'].notnull()) & (visa_data['SECONDARY_ENTITY_7']=='N'), 'SECONDARY_ENTITY_7']='Y'\n",
        "visa_data.loc[(visa_data['WAGE_RATE_OF_PAY_FROM_8'].notnull()) & (visa_data['SECONDARY_ENTITY_8']=='N'), 'SECONDARY_ENTITY_8']='Y'\n",
        "visa_data.loc[(visa_data['WAGE_RATE_OF_PAY_FROM_9'].notnull()) & (visa_data['SECONDARY_ENTITY_9']=='N'), 'SECONDARY_ENTITY_9']='Y'\n",
        "visa_data.loc[(visa_data['WAGE_RATE_OF_PAY_FROM_10'].notnull()) & (visa_data['SECONDARY_ENTITY_10']=='N'), 'SECONDARY_ENTITY_10']='Y'"
      ]
    },
    {
      "cell_type": "code",
      "execution_count": 846,
      "metadata": {
        "pycharm": {
          "name": "#%%\n"
        },
        "id": "8mkYEybaA6EC",
        "colab": {
          "base_uri": "https://localhost:8080/",
          "height": 160
        },
        "outputId": "8bbbca50-8425-492a-98b4-e16158873451"
      },
      "outputs": [
        {
          "output_type": "execute_result",
          "data": {
            "text/html": [
              "\n",
              "  <div id=\"df-d28a41c3-7c98-4980-b21f-5124b491a6b3\">\n",
              "    <div class=\"colab-df-container\">\n",
              "      <div>\n",
              "<style scoped>\n",
              "    .dataframe tbody tr th:only-of-type {\n",
              "        vertical-align: middle;\n",
              "    }\n",
              "\n",
              "    .dataframe tbody tr th {\n",
              "        vertical-align: top;\n",
              "    }\n",
              "\n",
              "    .dataframe thead th {\n",
              "        text-align: right;\n",
              "    }\n",
              "</style>\n",
              "<table border=\"1\" class=\"dataframe\">\n",
              "  <thead>\n",
              "    <tr style=\"text-align: right;\">\n",
              "      <th></th>\n",
              "      <th>CASE_NUMBER</th>\n",
              "      <th>CASE_STATUS</th>\n",
              "      <th>VISA_CLASS</th>\n",
              "      <th>JOB_TITLE</th>\n",
              "      <th>SOC_CODE</th>\n",
              "      <th>SOC_TITLE</th>\n",
              "      <th>FULL_TIME_POSITION</th>\n",
              "      <th>TOTAL_WORKER_POSITIONS</th>\n",
              "      <th>NEW_EMPLOYMENT</th>\n",
              "      <th>CONTINUED_EMPLOYMENT</th>\n",
              "      <th>...</th>\n",
              "      <th>WAGE_UNIT_OF_PAY_8</th>\n",
              "      <th>SECONDARY_ENTITY_9</th>\n",
              "      <th>WAGE_RATE_OF_PAY_FROM_9</th>\n",
              "      <th>WAGE_UNIT_OF_PAY_9</th>\n",
              "      <th>SECONDARY_ENTITY_10</th>\n",
              "      <th>WAGE_RATE_OF_PAY_FROM_10</th>\n",
              "      <th>WAGE_UNIT_OF_PAY_10</th>\n",
              "      <th>H-1B_DEPENDENT</th>\n",
              "      <th>WILLFUL_VIOLATOR</th>\n",
              "      <th>SUPPORT_H1B</th>\n",
              "    </tr>\n",
              "  </thead>\n",
              "  <tbody>\n",
              "  </tbody>\n",
              "</table>\n",
              "<p>0 rows × 50 columns</p>\n",
              "</div>\n",
              "      <button class=\"colab-df-convert\" onclick=\"convertToInteractive('df-d28a41c3-7c98-4980-b21f-5124b491a6b3')\"\n",
              "              title=\"Convert this dataframe to an interactive table.\"\n",
              "              style=\"display:none;\">\n",
              "        \n",
              "  <svg xmlns=\"http://www.w3.org/2000/svg\" height=\"24px\"viewBox=\"0 0 24 24\"\n",
              "       width=\"24px\">\n",
              "    <path d=\"M0 0h24v24H0V0z\" fill=\"none\"/>\n",
              "    <path d=\"M18.56 5.44l.94 2.06.94-2.06 2.06-.94-2.06-.94-.94-2.06-.94 2.06-2.06.94zm-11 1L8.5 8.5l.94-2.06 2.06-.94-2.06-.94L8.5 2.5l-.94 2.06-2.06.94zm10 10l.94 2.06.94-2.06 2.06-.94-2.06-.94-.94-2.06-.94 2.06-2.06.94z\"/><path d=\"M17.41 7.96l-1.37-1.37c-.4-.4-.92-.59-1.43-.59-.52 0-1.04.2-1.43.59L10.3 9.45l-7.72 7.72c-.78.78-.78 2.05 0 2.83L4 21.41c.39.39.9.59 1.41.59.51 0 1.02-.2 1.41-.59l7.78-7.78 2.81-2.81c.8-.78.8-2.07 0-2.86zM5.41 20L4 18.59l7.72-7.72 1.47 1.35L5.41 20z\"/>\n",
              "  </svg>\n",
              "      </button>\n",
              "      \n",
              "  <style>\n",
              "    .colab-df-container {\n",
              "      display:flex;\n",
              "      flex-wrap:wrap;\n",
              "      gap: 12px;\n",
              "    }\n",
              "\n",
              "    .colab-df-convert {\n",
              "      background-color: #E8F0FE;\n",
              "      border: none;\n",
              "      border-radius: 50%;\n",
              "      cursor: pointer;\n",
              "      display: none;\n",
              "      fill: #1967D2;\n",
              "      height: 32px;\n",
              "      padding: 0 0 0 0;\n",
              "      width: 32px;\n",
              "    }\n",
              "\n",
              "    .colab-df-convert:hover {\n",
              "      background-color: #E2EBFA;\n",
              "      box-shadow: 0px 1px 2px rgba(60, 64, 67, 0.3), 0px 1px 3px 1px rgba(60, 64, 67, 0.15);\n",
              "      fill: #174EA6;\n",
              "    }\n",
              "\n",
              "    [theme=dark] .colab-df-convert {\n",
              "      background-color: #3B4455;\n",
              "      fill: #D2E3FC;\n",
              "    }\n",
              "\n",
              "    [theme=dark] .colab-df-convert:hover {\n",
              "      background-color: #434B5C;\n",
              "      box-shadow: 0px 1px 3px 1px rgba(0, 0, 0, 0.15);\n",
              "      filter: drop-shadow(0px 1px 2px rgba(0, 0, 0, 0.3));\n",
              "      fill: #FFFFFF;\n",
              "    }\n",
              "  </style>\n",
              "\n",
              "      <script>\n",
              "        const buttonEl =\n",
              "          document.querySelector('#df-d28a41c3-7c98-4980-b21f-5124b491a6b3 button.colab-df-convert');\n",
              "        buttonEl.style.display =\n",
              "          google.colab.kernel.accessAllowed ? 'block' : 'none';\n",
              "\n",
              "        async function convertToInteractive(key) {\n",
              "          const element = document.querySelector('#df-d28a41c3-7c98-4980-b21f-5124b491a6b3');\n",
              "          const dataTable =\n",
              "            await google.colab.kernel.invokeFunction('convertToInteractive',\n",
              "                                                     [key], {});\n",
              "          if (!dataTable) return;\n",
              "\n",
              "          const docLinkHtml = 'Like what you see? Visit the ' +\n",
              "            '<a target=\"_blank\" href=https://colab.research.google.com/notebooks/data_table.ipynb>data table notebook</a>'\n",
              "            + ' to learn more about interactive tables.';\n",
              "          element.innerHTML = '';\n",
              "          dataTable['output_type'] = 'display_data';\n",
              "          await google.colab.output.renderOutput(dataTable, element);\n",
              "          const docLink = document.createElement('div');\n",
              "          docLink.innerHTML = docLinkHtml;\n",
              "          element.appendChild(docLink);\n",
              "        }\n",
              "      </script>\n",
              "    </div>\n",
              "  </div>\n",
              "  "
            ],
            "text/plain": [
              "Empty DataFrame\n",
              "Columns: [CASE_NUMBER, CASE_STATUS, VISA_CLASS, JOB_TITLE, SOC_CODE, SOC_TITLE, FULL_TIME_POSITION, TOTAL_WORKER_POSITIONS, NEW_EMPLOYMENT, CONTINUED_EMPLOYMENT, CHANGE_PREVIOUS_EMPLOYMENT, NEW_CONCURRENT_EMPLOYMENT, CHANGE_EMPLOYER, AMENDED_PETITION, EMPLOYER_NAME, NAICS_CODE, AGENT_REPRESENTING_EMPLOYER, SECONDARY_ENTITY_1, WAGE_RATE_OF_PAY_FROM_1, WAGE_UNIT_OF_PAY_1, SECONDARY_ENTITY_2, WAGE_RATE_OF_PAY_FROM_2, WAGE_UNIT_OF_PAY_2, SECONDARY_ENTITY_3, WAGE_RATE_OF_PAY_FROM_3, WAGE_UNIT_OF_PAY_3, SECONDARY_ENTITY_4, WAGE_RATE_OF_PAY_FROM_4, WAGE_UNIT_OF_PAY_4, SECONDARY_ENTITY_5, WAGE_RATE_OF_PAY_FROM_5, WAGE_UNIT_OF_PAY_5, SECONDARY_ENTITY_6, WAGE_RATE_OF_PAY_FROM_6, WAGE_UNIT_OF_PAY_6, SECONDARY_ENTITY_7, WAGE_RATE_OF_PAY_FROM_7, WAGE_UNIT_OF_PAY_7, SECONDARY_ENTITY_8, WAGE_RATE_OF_PAY_FROM_8, WAGE_UNIT_OF_PAY_8, SECONDARY_ENTITY_9, WAGE_RATE_OF_PAY_FROM_9, WAGE_UNIT_OF_PAY_9, SECONDARY_ENTITY_10, WAGE_RATE_OF_PAY_FROM_10, WAGE_UNIT_OF_PAY_10, H-1B_DEPENDENT, WILLFUL_VIOLATOR, SUPPORT_H1B]\n",
              "Index: []\n",
              "\n",
              "[0 rows x 50 columns]"
            ]
          },
          "metadata": {},
          "execution_count": 846
        }
      ],
      "source": [
        "visa_data[(visa_data['WAGE_RATE_OF_PAY_FROM_1'].notnull()) & (visa_data['WAGE_UNIT_OF_PAY_1'].isnull())]\n",
        "visa_data[(visa_data['WAGE_RATE_OF_PAY_FROM_2'].notnull()) & (visa_data['WAGE_UNIT_OF_PAY_2'].isnull())]\n",
        "visa_data[(visa_data['WAGE_RATE_OF_PAY_FROM_3'].notnull()) & (visa_data['WAGE_UNIT_OF_PAY_3'].isnull())]\n",
        "\n",
        "visa_data[(visa_data['WAGE_RATE_OF_PAY_FROM_4'].notnull()) & (visa_data['WAGE_UNIT_OF_PAY_4'].isnull())] # found \n",
        "visa_data.loc[(visa_data['WAGE_RATE_OF_PAY_FROM_4'].notnull()) & (visa_data['WAGE_UNIT_OF_PAY_4'].isnull()), 'WAGE_UNIT_OF_PAY_4']='Year'\n",
        "\n",
        "visa_data[(visa_data['WAGE_RATE_OF_PAY_FROM_5'].notnull()) & (visa_data['WAGE_UNIT_OF_PAY_5'].isnull())] # found \n",
        "visa_data.loc[(visa_data['WAGE_RATE_OF_PAY_FROM_5'].notnull()) & (visa_data['WAGE_UNIT_OF_PAY_5'].isnull()), 'WAGE_UNIT_OF_PAY_5']='Year'\n",
        "\n",
        "visa_data[(visa_data['WAGE_RATE_OF_PAY_FROM_6'].notnull()) & (visa_data['WAGE_UNIT_OF_PAY_6'].isnull())]\n",
        "\n",
        "visa_data[(visa_data['WAGE_RATE_OF_PAY_FROM_7'].notnull()) & (visa_data['WAGE_UNIT_OF_PAY_7'].isnull())] # found \n",
        "visa_data.loc[(visa_data['WAGE_RATE_OF_PAY_FROM_7'].notnull()) & (visa_data['WAGE_UNIT_OF_PAY_7'].isnull()), 'WAGE_UNIT_OF_PAY_7']='Year'\n",
        "\n",
        "visa_data[(visa_data['WAGE_RATE_OF_PAY_FROM_8'].notnull()) & (visa_data['WAGE_UNIT_OF_PAY_8'].isnull())] # found\n",
        "visa_data.loc[(visa_data['WAGE_RATE_OF_PAY_FROM_8'].notnull()) & (visa_data['WAGE_UNIT_OF_PAY_8'].isnull()), 'WAGE_UNIT_OF_PAY_8']='Year'\n",
        "\n",
        "visa_data[(visa_data['WAGE_RATE_OF_PAY_FROM_9'].notnull()) & (visa_data['WAGE_UNIT_OF_PAY_9'].isnull())]\n",
        "visa_data[(visa_data['WAGE_RATE_OF_PAY_FROM_10'].notnull()) & (visa_data['WAGE_UNIT_OF_PAY_10'].isnull())]"
      ]
    },
    {
      "cell_type": "code",
      "execution_count": 847,
      "metadata": {
        "pycharm": {
          "name": "#%%\n"
        },
        "id": "m9U2n8qXA6EC",
        "colab": {
          "base_uri": "https://localhost:8080/",
          "height": 160
        },
        "outputId": "18f6d520-1578-4d88-9cf1-0188202d02bd"
      },
      "outputs": [
        {
          "output_type": "execute_result",
          "data": {
            "text/html": [
              "\n",
              "  <div id=\"df-6fa79362-b01e-422c-a942-bb4a3316680a\">\n",
              "    <div class=\"colab-df-container\">\n",
              "      <div>\n",
              "<style scoped>\n",
              "    .dataframe tbody tr th:only-of-type {\n",
              "        vertical-align: middle;\n",
              "    }\n",
              "\n",
              "    .dataframe tbody tr th {\n",
              "        vertical-align: top;\n",
              "    }\n",
              "\n",
              "    .dataframe thead th {\n",
              "        text-align: right;\n",
              "    }\n",
              "</style>\n",
              "<table border=\"1\" class=\"dataframe\">\n",
              "  <thead>\n",
              "    <tr style=\"text-align: right;\">\n",
              "      <th></th>\n",
              "      <th>CASE_NUMBER</th>\n",
              "      <th>CASE_STATUS</th>\n",
              "      <th>VISA_CLASS</th>\n",
              "      <th>JOB_TITLE</th>\n",
              "      <th>SOC_CODE</th>\n",
              "      <th>SOC_TITLE</th>\n",
              "      <th>FULL_TIME_POSITION</th>\n",
              "      <th>TOTAL_WORKER_POSITIONS</th>\n",
              "      <th>NEW_EMPLOYMENT</th>\n",
              "      <th>CONTINUED_EMPLOYMENT</th>\n",
              "      <th>...</th>\n",
              "      <th>WAGE_UNIT_OF_PAY_8</th>\n",
              "      <th>SECONDARY_ENTITY_9</th>\n",
              "      <th>WAGE_RATE_OF_PAY_FROM_9</th>\n",
              "      <th>WAGE_UNIT_OF_PAY_9</th>\n",
              "      <th>SECONDARY_ENTITY_10</th>\n",
              "      <th>WAGE_RATE_OF_PAY_FROM_10</th>\n",
              "      <th>WAGE_UNIT_OF_PAY_10</th>\n",
              "      <th>H-1B_DEPENDENT</th>\n",
              "      <th>WILLFUL_VIOLATOR</th>\n",
              "      <th>SUPPORT_H1B</th>\n",
              "    </tr>\n",
              "  </thead>\n",
              "  <tbody>\n",
              "  </tbody>\n",
              "</table>\n",
              "<p>0 rows × 50 columns</p>\n",
              "</div>\n",
              "      <button class=\"colab-df-convert\" onclick=\"convertToInteractive('df-6fa79362-b01e-422c-a942-bb4a3316680a')\"\n",
              "              title=\"Convert this dataframe to an interactive table.\"\n",
              "              style=\"display:none;\">\n",
              "        \n",
              "  <svg xmlns=\"http://www.w3.org/2000/svg\" height=\"24px\"viewBox=\"0 0 24 24\"\n",
              "       width=\"24px\">\n",
              "    <path d=\"M0 0h24v24H0V0z\" fill=\"none\"/>\n",
              "    <path d=\"M18.56 5.44l.94 2.06.94-2.06 2.06-.94-2.06-.94-.94-2.06-.94 2.06-2.06.94zm-11 1L8.5 8.5l.94-2.06 2.06-.94-2.06-.94L8.5 2.5l-.94 2.06-2.06.94zm10 10l.94 2.06.94-2.06 2.06-.94-2.06-.94-.94-2.06-.94 2.06-2.06.94z\"/><path d=\"M17.41 7.96l-1.37-1.37c-.4-.4-.92-.59-1.43-.59-.52 0-1.04.2-1.43.59L10.3 9.45l-7.72 7.72c-.78.78-.78 2.05 0 2.83L4 21.41c.39.39.9.59 1.41.59.51 0 1.02-.2 1.41-.59l7.78-7.78 2.81-2.81c.8-.78.8-2.07 0-2.86zM5.41 20L4 18.59l7.72-7.72 1.47 1.35L5.41 20z\"/>\n",
              "  </svg>\n",
              "      </button>\n",
              "      \n",
              "  <style>\n",
              "    .colab-df-container {\n",
              "      display:flex;\n",
              "      flex-wrap:wrap;\n",
              "      gap: 12px;\n",
              "    }\n",
              "\n",
              "    .colab-df-convert {\n",
              "      background-color: #E8F0FE;\n",
              "      border: none;\n",
              "      border-radius: 50%;\n",
              "      cursor: pointer;\n",
              "      display: none;\n",
              "      fill: #1967D2;\n",
              "      height: 32px;\n",
              "      padding: 0 0 0 0;\n",
              "      width: 32px;\n",
              "    }\n",
              "\n",
              "    .colab-df-convert:hover {\n",
              "      background-color: #E2EBFA;\n",
              "      box-shadow: 0px 1px 2px rgba(60, 64, 67, 0.3), 0px 1px 3px 1px rgba(60, 64, 67, 0.15);\n",
              "      fill: #174EA6;\n",
              "    }\n",
              "\n",
              "    [theme=dark] .colab-df-convert {\n",
              "      background-color: #3B4455;\n",
              "      fill: #D2E3FC;\n",
              "    }\n",
              "\n",
              "    [theme=dark] .colab-df-convert:hover {\n",
              "      background-color: #434B5C;\n",
              "      box-shadow: 0px 1px 3px 1px rgba(0, 0, 0, 0.15);\n",
              "      filter: drop-shadow(0px 1px 2px rgba(0, 0, 0, 0.3));\n",
              "      fill: #FFFFFF;\n",
              "    }\n",
              "  </style>\n",
              "\n",
              "      <script>\n",
              "        const buttonEl =\n",
              "          document.querySelector('#df-6fa79362-b01e-422c-a942-bb4a3316680a button.colab-df-convert');\n",
              "        buttonEl.style.display =\n",
              "          google.colab.kernel.accessAllowed ? 'block' : 'none';\n",
              "\n",
              "        async function convertToInteractive(key) {\n",
              "          const element = document.querySelector('#df-6fa79362-b01e-422c-a942-bb4a3316680a');\n",
              "          const dataTable =\n",
              "            await google.colab.kernel.invokeFunction('convertToInteractive',\n",
              "                                                     [key], {});\n",
              "          if (!dataTable) return;\n",
              "\n",
              "          const docLinkHtml = 'Like what you see? Visit the ' +\n",
              "            '<a target=\"_blank\" href=https://colab.research.google.com/notebooks/data_table.ipynb>data table notebook</a>'\n",
              "            + ' to learn more about interactive tables.';\n",
              "          element.innerHTML = '';\n",
              "          dataTable['output_type'] = 'display_data';\n",
              "          await google.colab.output.renderOutput(dataTable, element);\n",
              "          const docLink = document.createElement('div');\n",
              "          docLink.innerHTML = docLinkHtml;\n",
              "          element.appendChild(docLink);\n",
              "        }\n",
              "      </script>\n",
              "    </div>\n",
              "  </div>\n",
              "  "
            ],
            "text/plain": [
              "Empty DataFrame\n",
              "Columns: [CASE_NUMBER, CASE_STATUS, VISA_CLASS, JOB_TITLE, SOC_CODE, SOC_TITLE, FULL_TIME_POSITION, TOTAL_WORKER_POSITIONS, NEW_EMPLOYMENT, CONTINUED_EMPLOYMENT, CHANGE_PREVIOUS_EMPLOYMENT, NEW_CONCURRENT_EMPLOYMENT, CHANGE_EMPLOYER, AMENDED_PETITION, EMPLOYER_NAME, NAICS_CODE, AGENT_REPRESENTING_EMPLOYER, SECONDARY_ENTITY_1, WAGE_RATE_OF_PAY_FROM_1, WAGE_UNIT_OF_PAY_1, SECONDARY_ENTITY_2, WAGE_RATE_OF_PAY_FROM_2, WAGE_UNIT_OF_PAY_2, SECONDARY_ENTITY_3, WAGE_RATE_OF_PAY_FROM_3, WAGE_UNIT_OF_PAY_3, SECONDARY_ENTITY_4, WAGE_RATE_OF_PAY_FROM_4, WAGE_UNIT_OF_PAY_4, SECONDARY_ENTITY_5, WAGE_RATE_OF_PAY_FROM_5, WAGE_UNIT_OF_PAY_5, SECONDARY_ENTITY_6, WAGE_RATE_OF_PAY_FROM_6, WAGE_UNIT_OF_PAY_6, SECONDARY_ENTITY_7, WAGE_RATE_OF_PAY_FROM_7, WAGE_UNIT_OF_PAY_7, SECONDARY_ENTITY_8, WAGE_RATE_OF_PAY_FROM_8, WAGE_UNIT_OF_PAY_8, SECONDARY_ENTITY_9, WAGE_RATE_OF_PAY_FROM_9, WAGE_UNIT_OF_PAY_9, SECONDARY_ENTITY_10, WAGE_RATE_OF_PAY_FROM_10, WAGE_UNIT_OF_PAY_10, H-1B_DEPENDENT, WILLFUL_VIOLATOR, SUPPORT_H1B]\n",
              "Index: []\n",
              "\n",
              "[0 rows x 50 columns]"
            ]
          },
          "metadata": {},
          "execution_count": 847
        }
      ],
      "source": [
        "visa_data[(visa_data['WAGE_RATE_OF_PAY_FROM_1'].isnull()) & (visa_data['WAGE_UNIT_OF_PAY_1'].notnull())] \n",
        "visa_data[(visa_data['WAGE_RATE_OF_PAY_FROM_2'].isnull()) & (visa_data['WAGE_UNIT_OF_PAY_2'].notnull())] \n",
        "visa_data[(visa_data['WAGE_RATE_OF_PAY_FROM_3'].isnull()) & (visa_data['WAGE_UNIT_OF_PAY_3'].notnull())] \n",
        "visa_data[(visa_data['WAGE_RATE_OF_PAY_FROM_4'].isnull()) & (visa_data['WAGE_UNIT_OF_PAY_4'].notnull())] \n",
        "visa_data[(visa_data['WAGE_RATE_OF_PAY_FROM_5'].isnull()) & (visa_data['WAGE_UNIT_OF_PAY_5'].notnull())] \n",
        "visa_data[(visa_data['WAGE_RATE_OF_PAY_FROM_6'].isnull()) & (visa_data['WAGE_UNIT_OF_PAY_6'].notnull())]\n",
        "visa_data[(visa_data['WAGE_RATE_OF_PAY_FROM_7'].isnull()) & (visa_data['WAGE_UNIT_OF_PAY_7'].notnull())] \n",
        "visa_data[(visa_data['WAGE_RATE_OF_PAY_FROM_8'].isnull()) & (visa_data['WAGE_UNIT_OF_PAY_8'].notnull())] \n",
        "visa_data[(visa_data['WAGE_RATE_OF_PAY_FROM_9'].isnull()) & (visa_data['WAGE_UNIT_OF_PAY_9'].notnull())] \n",
        "visa_data[(visa_data['WAGE_RATE_OF_PAY_FROM_10'].isnull()) & (visa_data['WAGE_UNIT_OF_PAY_10'].notnull())] "
      ]
    },
    {
      "cell_type": "code",
      "execution_count": 848,
      "metadata": {
        "pycharm": {
          "name": "#%%\n"
        },
        "id": "-24y04FVA6ED"
      },
      "outputs": [],
      "source": [
        "# Removing the dollar and comma sign from the WAGE_RATE_OF_PAY_FROM features and Converting it into float \n",
        "\n",
        "visa_data['WAGE_RATE_OF_PAY_FROM_1']=visa_data['WAGE_RATE_OF_PAY_FROM_1'].replace({'\\$': '', ',': ''}, regex=True)\n",
        "visa_data['WAGE_RATE_OF_PAY_FROM_1']=visa_data['WAGE_RATE_OF_PAY_FROM_1'].astype(float)\n",
        "\n",
        "visa_data['WAGE_RATE_OF_PAY_FROM_2']=visa_data['WAGE_RATE_OF_PAY_FROM_2'].replace({'\\$': '', ',': ''}, regex=True)\n",
        "visa_data['WAGE_RATE_OF_PAY_FROM_2']=visa_data['WAGE_RATE_OF_PAY_FROM_2'].astype(float)\n",
        "\n",
        "visa_data['WAGE_RATE_OF_PAY_FROM_3']=visa_data['WAGE_RATE_OF_PAY_FROM_3'].replace({'\\$': '', ',': ''}, regex=True)\n",
        "visa_data['WAGE_RATE_OF_PAY_FROM_3']=visa_data['WAGE_RATE_OF_PAY_FROM_3'].astype(float)\n",
        "\n",
        "visa_data['WAGE_RATE_OF_PAY_FROM_4']=visa_data['WAGE_RATE_OF_PAY_FROM_4'].replace({'\\$': '', ',': ''}, regex=True)\n",
        "visa_data['WAGE_RATE_OF_PAY_FROM_4']=visa_data['WAGE_RATE_OF_PAY_FROM_4'].astype(float)\n",
        "\n",
        "visa_data['WAGE_RATE_OF_PAY_FROM_5']=visa_data['WAGE_RATE_OF_PAY_FROM_5'].replace({'\\$': '', ',': ''}, regex=True)\n",
        "visa_data['WAGE_RATE_OF_PAY_FROM_5']=visa_data['WAGE_RATE_OF_PAY_FROM_5'].astype(float)\n",
        "\n",
        "visa_data['WAGE_RATE_OF_PAY_FROM_6']=visa_data['WAGE_RATE_OF_PAY_FROM_6'].replace({'\\$': '', ',': ''}, regex=True)\n",
        "visa_data['WAGE_RATE_OF_PAY_FROM_6']=visa_data['WAGE_RATE_OF_PAY_FROM_6'].astype(float)\n",
        "\n",
        "visa_data['WAGE_RATE_OF_PAY_FROM_7']=visa_data['WAGE_RATE_OF_PAY_FROM_7'].replace({'\\$': '', ',': ''}, regex=True)\n",
        "visa_data['WAGE_RATE_OF_PAY_FROM_7']=visa_data['WAGE_RATE_OF_PAY_FROM_7'].astype(float)\n",
        "\n",
        "visa_data['WAGE_RATE_OF_PAY_FROM_8']=visa_data['WAGE_RATE_OF_PAY_FROM_8'].replace({'\\$': '', ',': ''}, regex=True)\n",
        "visa_data['WAGE_RATE_OF_PAY_FROM_8']=visa_data['WAGE_RATE_OF_PAY_FROM_8'].astype(float)\n",
        "\n",
        "visa_data['WAGE_RATE_OF_PAY_FROM_9']=visa_data['WAGE_RATE_OF_PAY_FROM_9'].replace({'\\$': '', ',': ''}, regex=True)\n",
        "visa_data['WAGE_RATE_OF_PAY_FROM_9']=visa_data['WAGE_RATE_OF_PAY_FROM_9'].astype(float)\n",
        "\n",
        "visa_data['WAGE_RATE_OF_PAY_FROM_10']=visa_data['WAGE_RATE_OF_PAY_FROM_10'].replace({'\\$': '', ',': ''}, regex=True)\n",
        "visa_data['WAGE_RATE_OF_PAY_FROM_10']=visa_data['WAGE_RATE_OF_PAY_FROM_10'].astype(float)"
      ]
    },
    {
      "cell_type": "code",
      "execution_count": 849,
      "metadata": {
        "pycharm": {
          "name": "#%%\n"
        },
        "id": "Q-qSEAXOA6ED"
      },
      "outputs": [],
      "source": [
        "# Checking null values in the 'H-1B_DEPENDENT' column \n",
        "\n",
        "visa_data['H-1B_DEPENDENT'].isnull().sum() \n",
        "visa_data.drop(visa_data[visa_data['H-1B_DEPENDENT'].isnull()].index, inplace=True)\n",
        "visa_data.drop(231476, inplace=True)"
      ]
    },
    {
      "cell_type": "code",
      "execution_count": 850,
      "metadata": {
        "pycharm": {
          "name": "#%%\n"
        },
        "id": "UruCxGGaA6ED",
        "colab": {
          "base_uri": "https://localhost:8080/",
          "height": 297
        },
        "outputId": "ab16c23e-8f65-4c7c-d95b-a99acd02da00"
      },
      "outputs": [
        {
          "output_type": "execute_result",
          "data": {
            "text/plain": [
              "<matplotlib.axes._subplots.AxesSubplot at 0x7f58b15fdb10>"
            ]
          },
          "metadata": {},
          "execution_count": 850
        },
        {
          "output_type": "display_data",
          "data": {
            "image/png": "[encoded data removed]",
            "text/plain": [
              "<Figure size 432x288 with 1 Axes>"
            ]
          },
          "metadata": {
            "needs_background": "light"
          }
        }
      ],
      "source": [
        "# Analyzing the CASE_STATUS feature\n",
        "\n",
        "sns.countplot(x='CASE_STATUS', data=visa_data)"
      ]
    },
    {
      "cell_type": "markdown",
      "metadata": {
        "id": "lsRE6dXKA6EE"
      },
      "source": [
        "Data Encoding"
      ]
    },
    {
      "cell_type": "code",
      "execution_count": 851,
      "metadata": {
        "pycharm": {
          "name": "#%%\n"
        },
        "id": "X3i-zim4A6EE"
      },
      "outputs": [],
      "source": [
        "# A separate dataframe 'testing' is created\n",
        "# dummies were added in the place of string values\n",
        "\n",
        "visa_data['FULL_TIME_POSITION'].replace({'Y':1, 'N':0}, inplace=True)\n",
        "visa_data['H-1B_DEPENDENT'].replace({'Y':1, 'N':0}, inplace=True)\n",
        "visa_data['WILLFUL_VIOLATOR'].replace({'Y':1, 'N':0}, inplace=True)\n",
        "visa_data['AGENT_REPRESENTING_EMPLOYER'].replace({'Y':1, 'N':0}, inplace=True)\n",
        "\n",
        "visa_data['SECONDARY_ENTITY_1'].replace({'Y':1, 'N':0}, inplace=True)\n",
        "visa_data['SECONDARY_ENTITY_2'].replace({'Y':1, 'N':0}, inplace=True)\n",
        "visa_data['SECONDARY_ENTITY_3'].replace({'Y':1, 'N':0}, inplace=True)\n",
        "visa_data['SECONDARY_ENTITY_4'].replace({'Y':1, 'N':0}, inplace=True)\n",
        "visa_data['SECONDARY_ENTITY_5'].replace({'Y':1, 'N':0}, inplace=True)\n",
        "visa_data['SECONDARY_ENTITY_6'].replace({'Y':1, 'N':0}, inplace=True)\n",
        "visa_data['SECONDARY_ENTITY_7'].replace({'Y':1, 'N':0}, inplace=True)\n",
        "visa_data['SECONDARY_ENTITY_8'].replace({'Y':1, 'N':0}, inplace=True)\n",
        "visa_data['SECONDARY_ENTITY_9'].replace({'Y':1, 'N':0}, inplace=True)\n",
        "visa_data['SECONDARY_ENTITY_10'].replace({'Y':1, 'N':0}, inplace=True)\n",
        "\n",
        "visa_data['WAGE_UNIT_OF_PAY_1'].replace({'Hour':1, 'Week':2, 'Bi-Weekly':3, 'Month':4, 'Year':5}, inplace=True)\n",
        "visa_data['WAGE_UNIT_OF_PAY_2'].replace({'Hour':1, 'Week':2, 'Bi-Weekly':3, 'Month':4, 'Year':5}, inplace=True)\n",
        "visa_data['WAGE_UNIT_OF_PAY_3'].replace({'Hour':1, 'Week':2, 'Bi-Weekly':3, 'Month':4, 'Year':5}, inplace=True)\n",
        "visa_data['WAGE_UNIT_OF_PAY_4'].replace({'Hour':1, 'Week':2, 'Bi-Weekly':3, 'Month':4, 'Year':5}, inplace=True)\n",
        "visa_data['WAGE_UNIT_OF_PAY_5'].replace({'Hour':1, 'Week':2, 'Bi-Weekly':3, 'Month':4, 'Year':5}, inplace=True)\n",
        "visa_data['WAGE_UNIT_OF_PAY_6'].replace({'Hour':1, 'Week':2, 'Bi-Weekly':3, 'Month':4, 'Year':5}, inplace=True)\n",
        "visa_data['WAGE_UNIT_OF_PAY_7'].replace({'Hour':1, 'Week':2, 'Bi-Weekly':3, 'Month':4, 'Year':5}, inplace=True)\n",
        "visa_data['WAGE_UNIT_OF_PAY_8'].replace({'Hour':1, 'Week':2, 'Bi-Weekly':3, 'Month':4, 'Year':5}, inplace=True)\n",
        "visa_data['WAGE_UNIT_OF_PAY_9'].replace({'Hour':1, 'Week':2, 'Bi-Weekly':3, 'Month':4, 'Year':5}, inplace=True)\n",
        "visa_data['WAGE_UNIT_OF_PAY_10'].replace({'Hour':1, 'Week':2, 'Bi-Weekly':3, 'Month':4, 'Year':5}, inplace=True)\n",
        "\n",
        "le = LabelEncoder()\n",
        "visa_data.JOB_TITLE = le.fit_transform(visa_data.JOB_TITLE)\n",
        "visa_data.EMPLOYER_NAME = le.fit_transform(visa_data.EMPLOYER_NAME)\n",
        "visa_data.SOC_CODE = le.fit_transform(visa_data.SOC_CODE)\n",
        "visa_data.SOC_TITLE = le.fit_transform(visa_data.SOC_TITLE)\n",
        "visa_data.NAICS_CODE = le.fit_transform(visa_data.NAICS_CODE)\n",
        "visa_data.SUPPORT_H1B = le.fit_transform(visa_data.SUPPORT_H1B)\n",
        "\n",
        "testing = visa_data.copy(deep=True)\n",
        "sum_secondary_entity = testing['SECONDARY_ENTITY_1'] + testing['SECONDARY_ENTITY_2'] + testing['SECONDARY_ENTITY_3'] + testing['SECONDARY_ENTITY_4'] + testing['SECONDARY_ENTITY_5'] + testing['SECONDARY_ENTITY_6'] + testing['SECONDARY_ENTITY_7'] + testing['SECONDARY_ENTITY_8'] + testing['SECONDARY_ENTITY_9'] + testing['SECONDARY_ENTITY_10']\n",
        "\n",
        "testing['SUM_SECONDARY_ENTITY'] = sum_secondary_entity"
      ]
    },
    {
      "cell_type": "markdown",
      "metadata": {
        "id": "6PYlQVENA6EF"
      },
      "source": [
        "Dealing Outliers"
      ]
    },
    {
      "cell_type": "code",
      "execution_count": 852,
      "metadata": {
        "pycharm": {
          "name": "#%%\n"
        },
        "id": "82yz-LjHA6EF"
      },
      "outputs": [],
      "source": [
        "def remove_outlier(col):\n",
        "    sorted(col)\n",
        "    Q1, Q3 = col.quantile([0.25, 0.75])\n",
        "    IQR = Q3 - Q1\n",
        "    lower_range = Q1 - (1.5*IQR)\n",
        "    upper_range = Q3 + (1.5*IQR)\n",
        "    return lower_range, upper_range"
      ]
    },
    {
      "cell_type": "code",
      "execution_count": 853,
      "metadata": {
        "pycharm": {
          "name": "#%%\n"
        },
        "id": "NSNNQ01TA6EF"
      },
      "outputs": [],
      "source": [
        "lowincome, uppincome = remove_outlier(testing['WAGE_RATE_OF_PAY_FROM_1'])\n",
        "testing['WAGE_RATE_OF_PAY_FROM_1'] = np.where(testing['WAGE_RATE_OF_PAY_FROM_1']>uppincome, uppincome, testing['WAGE_RATE_OF_PAY_FROM_1'])\n",
        "testing['WAGE_RATE_OF_PAY_FROM_1'] = np.where(testing['WAGE_RATE_OF_PAY_FROM_1']<lowincome, lowincome, testing['WAGE_RATE_OF_PAY_FROM_1'])\n",
        "\n",
        "lowincome, uppincome = remove_outlier(testing['WAGE_RATE_OF_PAY_FROM_2'])\n",
        "testing['WAGE_RATE_OF_PAY_FROM_2'] = np.where(testing['WAGE_RATE_OF_PAY_FROM_2']>uppincome, uppincome, testing['WAGE_RATE_OF_PAY_FROM_2'])\n",
        "testing['WAGE_RATE_OF_PAY_FROM_2'] = np.where(testing['WAGE_RATE_OF_PAY_FROM_2']<lowincome, lowincome, testing['WAGE_RATE_OF_PAY_FROM_2'])\n",
        "\n",
        "lowincome, uppincome = remove_outlier(testing['WAGE_RATE_OF_PAY_FROM_3'])\n",
        "testing['WAGE_RATE_OF_PAY_FROM_3'] = np.where(testing['WAGE_RATE_OF_PAY_FROM_3']>uppincome, uppincome, testing['WAGE_RATE_OF_PAY_FROM_3'])\n",
        "testing['WAGE_RATE_OF_PAY_FROM_3'] = np.where(testing['WAGE_RATE_OF_PAY_FROM_3']<lowincome, lowincome, testing['WAGE_RATE_OF_PAY_FROM_3'])\n",
        "\n",
        "lowincome, uppincome = remove_outlier(testing['WAGE_RATE_OF_PAY_FROM_3'])\n",
        "testing['WAGE_RATE_OF_PAY_FROM_3'] = np.where(testing['WAGE_RATE_OF_PAY_FROM_3']>uppincome, uppincome, testing['WAGE_RATE_OF_PAY_FROM_3'])\n",
        "testing['WAGE_RATE_OF_PAY_FROM_3'] = np.where(testing['WAGE_RATE_OF_PAY_FROM_3']<lowincome, lowincome, testing['WAGE_RATE_OF_PAY_FROM_3'])\n",
        "\n",
        "lowincome, uppincome = remove_outlier(testing['WAGE_RATE_OF_PAY_FROM_4'])\n",
        "testing['WAGE_RATE_OF_PAY_FROM_4'] = np.where(testing['WAGE_RATE_OF_PAY_FROM_4']>uppincome, uppincome, testing['WAGE_RATE_OF_PAY_FROM_4'])\n",
        "testing['WAGE_RATE_OF_PAY_FROM_4'] = np.where(testing['WAGE_RATE_OF_PAY_FROM_4']<lowincome, lowincome, testing['WAGE_RATE_OF_PAY_FROM_4'])\n",
        "\n",
        "lowincome, uppincome = remove_outlier(testing['WAGE_RATE_OF_PAY_FROM_5'])\n",
        "testing['WAGE_RATE_OF_PAY_FROM_5'] = np.where(testing['WAGE_RATE_OF_PAY_FROM_5']>uppincome, uppincome, testing['WAGE_RATE_OF_PAY_FROM_5'])\n",
        "testing['WAGE_RATE_OF_PAY_FROM_5'] = np.where(testing['WAGE_RATE_OF_PAY_FROM_5']<lowincome, lowincome, testing['WAGE_RATE_OF_PAY_FROM_5'])\n",
        "\n",
        "lowincome, uppincome = remove_outlier(testing['WAGE_RATE_OF_PAY_FROM_6'])\n",
        "testing['WAGE_RATE_OF_PAY_FROM_6'] = np.where(testing['WAGE_RATE_OF_PAY_FROM_6']>uppincome, uppincome, testing['WAGE_RATE_OF_PAY_FROM_6'])\n",
        "testing['WAGE_RATE_OF_PAY_FROM_6'] = np.where(testing['WAGE_RATE_OF_PAY_FROM_6']<lowincome, lowincome, testing['WAGE_RATE_OF_PAY_FROM_6'])\n",
        "\n",
        "lowincome, uppincome = remove_outlier(testing['WAGE_RATE_OF_PAY_FROM_7'])\n",
        "testing['WAGE_RATE_OF_PAY_FROM_7'] = np.where(testing['WAGE_RATE_OF_PAY_FROM_7']>uppincome, uppincome, testing['WAGE_RATE_OF_PAY_FROM_7'])\n",
        "testing['WAGE_RATE_OF_PAY_FROM_7'] = np.where(testing['WAGE_RATE_OF_PAY_FROM_7']<lowincome, lowincome, testing['WAGE_RATE_OF_PAY_FROM_7'])\n",
        "\n",
        "lowincome, uppincome = remove_outlier(testing['WAGE_RATE_OF_PAY_FROM_8'])\n",
        "testing['WAGE_RATE_OF_PAY_FROM_8'] = np.where(testing['WAGE_RATE_OF_PAY_FROM_8']>uppincome, uppincome, testing['WAGE_RATE_OF_PAY_FROM_8'])\n",
        "testing['WAGE_RATE_OF_PAY_FROM_8'] = np.where(testing['WAGE_RATE_OF_PAY_FROM_8']<lowincome, lowincome, testing['WAGE_RATE_OF_PAY_FROM_8'])\n",
        "\n",
        "lowincome, uppincome = remove_outlier(testing['WAGE_RATE_OF_PAY_FROM_9'])\n",
        "testing['WAGE_RATE_OF_PAY_FROM_9'] = np.where(testing['WAGE_RATE_OF_PAY_FROM_9']>uppincome, uppincome, testing['WAGE_RATE_OF_PAY_FROM_9'])\n",
        "testing['WAGE_RATE_OF_PAY_FROM_9'] = np.where(testing['WAGE_RATE_OF_PAY_FROM_9']<lowincome, lowincome, testing['WAGE_RATE_OF_PAY_FROM_9'])\n",
        "\n",
        "lowincome, uppincome = remove_outlier(testing['WAGE_RATE_OF_PAY_FROM_10'])\n",
        "testing['WAGE_RATE_OF_PAY_FROM_10'] = np.where(testing['WAGE_RATE_OF_PAY_FROM_10']>uppincome, uppincome, testing['WAGE_RATE_OF_PAY_FROM_10'])\n",
        "testing['WAGE_RATE_OF_PAY_FROM_10'] = np.where(testing['WAGE_RATE_OF_PAY_FROM_10']<lowincome, lowincome, testing['WAGE_RATE_OF_PAY_FROM_10'])"
      ]
    },
    {
      "cell_type": "code",
      "execution_count": 854,
      "metadata": {
        "pycharm": {
          "name": "#%%\n"
        },
        "id": "AtB4V5UQA6EF",
        "colab": {
          "base_uri": "https://localhost:8080/",
          "height": 297
        },
        "outputId": "5cbb2a42-f9b2-41db-da4b-d6889f3d86f2"
      },
      "outputs": [
        {
          "output_type": "execute_result",
          "data": {
            "text/plain": [
              "<matplotlib.axes._subplots.AxesSubplot at 0x7f58bd4aa5d0>"
            ]
          },
          "metadata": {},
          "execution_count": 854
        },
        {
          "output_type": "display_data",
          "data": {
            "image/png": "[encoded data removed]",
            "text/plain": [
              "<Figure size 432x288 with 1 Axes>"
            ]
          },
          "metadata": {
            "needs_background": "light"
          }
        }
      ],
      "source": [
        "sns.barplot(x='CASE_STATUS', y='AMENDED_PETITION', data=testing)"
      ]
    },
    {
      "cell_type": "code",
      "execution_count": 855,
      "metadata": {
        "pycharm": {
          "name": "#%%\n"
        },
        "id": "sCPljM0tA6EF",
        "colab": {
          "base_uri": "https://localhost:8080/",
          "height": 283
        },
        "outputId": "5be3d3e6-aa6c-45fd-f73c-25bec93b2fd4"
      },
      "outputs": [
        {
          "output_type": "execute_result",
          "data": {
            "text/plain": [
              "<matplotlib.axes._subplots.AxesSubplot at 0x7f58b65d4b50>"
            ]
          },
          "metadata": {},
          "execution_count": 855
        },
        {
          "output_type": "display_data",
          "data": {
            "image/png": "[encoded data removed]",
            "text/plain": [
              "<Figure size 432x288 with 1 Axes>"
            ]
          },
          "metadata": {
            "needs_background": "light"
          }
        }
      ],
      "source": [
        "testing.boxplot('WAGE_RATE_OF_PAY_FROM_1')"
      ]
    },
    {
      "cell_type": "code",
      "source": [
        "testing"
      ],
      "metadata": {
        "id": "PUutQZ0AS9rJ",
        "colab": {
          "base_uri": "https://localhost:8080/",
          "height": 679
        },
        "outputId": "052c72a4-361a-41a2-b4ae-fb98b0e47fa6"
      },
      "execution_count": 856,
      "outputs": [
        {
          "output_type": "execute_result",
          "data": {
            "text/html": [
              "\n",
              "  <div id=\"df-c319f300-b7dc-415a-9ff8-5e0d19c3c91a\">\n",
              "    <div class=\"colab-df-container\">\n",
              "      <div>\n",
              "<style scoped>\n",
              "    .dataframe tbody tr th:only-of-type {\n",
              "        vertical-align: middle;\n",
              "    }\n",
              "\n",
              "    .dataframe tbody tr th {\n",
              "        vertical-align: top;\n",
              "    }\n",
              "\n",
              "    .dataframe thead th {\n",
              "        text-align: right;\n",
              "    }\n",
              "</style>\n",
              "<table border=\"1\" class=\"dataframe\">\n",
              "  <thead>\n",
              "    <tr style=\"text-align: right;\">\n",
              "      <th></th>\n",
              "      <th>CASE_NUMBER</th>\n",
              "      <th>CASE_STATUS</th>\n",
              "      <th>VISA_CLASS</th>\n",
              "      <th>JOB_TITLE</th>\n",
              "      <th>SOC_CODE</th>\n",
              "      <th>SOC_TITLE</th>\n",
              "      <th>FULL_TIME_POSITION</th>\n",
              "      <th>TOTAL_WORKER_POSITIONS</th>\n",
              "      <th>NEW_EMPLOYMENT</th>\n",
              "      <th>CONTINUED_EMPLOYMENT</th>\n",
              "      <th>...</th>\n",
              "      <th>SECONDARY_ENTITY_9</th>\n",
              "      <th>WAGE_RATE_OF_PAY_FROM_9</th>\n",
              "      <th>WAGE_UNIT_OF_PAY_9</th>\n",
              "      <th>SECONDARY_ENTITY_10</th>\n",
              "      <th>WAGE_RATE_OF_PAY_FROM_10</th>\n",
              "      <th>WAGE_UNIT_OF_PAY_10</th>\n",
              "      <th>H-1B_DEPENDENT</th>\n",
              "      <th>WILLFUL_VIOLATOR</th>\n",
              "      <th>SUPPORT_H1B</th>\n",
              "      <th>SUM_SECONDARY_ENTITY</th>\n",
              "    </tr>\n",
              "  </thead>\n",
              "  <tbody>\n",
              "    <tr>\n",
              "      <th>24</th>\n",
              "      <td>I-200-18162-689783</td>\n",
              "      <td>1.0</td>\n",
              "      <td>H-1B</td>\n",
              "      <td>1063</td>\n",
              "      <td>2</td>\n",
              "      <td>10</td>\n",
              "      <td>0</td>\n",
              "      <td>1.0</td>\n",
              "      <td>1</td>\n",
              "      <td>0</td>\n",
              "      <td>...</td>\n",
              "      <td>0</td>\n",
              "      <td>NaN</td>\n",
              "      <td>NaN</td>\n",
              "      <td>0</td>\n",
              "      <td>NaN</td>\n",
              "      <td>NaN</td>\n",
              "      <td>0</td>\n",
              "      <td>0</td>\n",
              "      <td>2</td>\n",
              "      <td>1</td>\n",
              "    </tr>\n",
              "    <tr>\n",
              "      <th>26</th>\n",
              "      <td>I-200-18268-784387</td>\n",
              "      <td>1.0</td>\n",
              "      <td>H-1B</td>\n",
              "      <td>1066</td>\n",
              "      <td>2</td>\n",
              "      <td>10</td>\n",
              "      <td>1</td>\n",
              "      <td>1.0</td>\n",
              "      <td>0</td>\n",
              "      <td>0</td>\n",
              "      <td>...</td>\n",
              "      <td>0</td>\n",
              "      <td>NaN</td>\n",
              "      <td>NaN</td>\n",
              "      <td>0</td>\n",
              "      <td>NaN</td>\n",
              "      <td>NaN</td>\n",
              "      <td>0</td>\n",
              "      <td>0</td>\n",
              "      <td>2</td>\n",
              "      <td>1</td>\n",
              "    </tr>\n",
              "    <tr>\n",
              "      <th>47</th>\n",
              "      <td>I-200-18299-123963</td>\n",
              "      <td>1.0</td>\n",
              "      <td>H-1B</td>\n",
              "      <td>46201</td>\n",
              "      <td>2</td>\n",
              "      <td>10</td>\n",
              "      <td>1</td>\n",
              "      <td>1.0</td>\n",
              "      <td>1</td>\n",
              "      <td>0</td>\n",
              "      <td>...</td>\n",
              "      <td>0</td>\n",
              "      <td>NaN</td>\n",
              "      <td>NaN</td>\n",
              "      <td>0</td>\n",
              "      <td>NaN</td>\n",
              "      <td>NaN</td>\n",
              "      <td>0</td>\n",
              "      <td>0</td>\n",
              "      <td>2</td>\n",
              "      <td>3</td>\n",
              "    </tr>\n",
              "    <tr>\n",
              "      <th>52</th>\n",
              "      <td>I-200-18310-551334</td>\n",
              "      <td>1.0</td>\n",
              "      <td>H-1B</td>\n",
              "      <td>6547</td>\n",
              "      <td>2</td>\n",
              "      <td>10</td>\n",
              "      <td>1</td>\n",
              "      <td>1.0</td>\n",
              "      <td>0</td>\n",
              "      <td>1</td>\n",
              "      <td>...</td>\n",
              "      <td>0</td>\n",
              "      <td>NaN</td>\n",
              "      <td>NaN</td>\n",
              "      <td>0</td>\n",
              "      <td>NaN</td>\n",
              "      <td>NaN</td>\n",
              "      <td>0</td>\n",
              "      <td>0</td>\n",
              "      <td>2</td>\n",
              "      <td>3</td>\n",
              "    </tr>\n",
              "    <tr>\n",
              "      <th>54</th>\n",
              "      <td>I-200-18317-440186</td>\n",
              "      <td>1.0</td>\n",
              "      <td>H-1B</td>\n",
              "      <td>1067</td>\n",
              "      <td>2</td>\n",
              "      <td>10</td>\n",
              "      <td>1</td>\n",
              "      <td>50.0</td>\n",
              "      <td>50</td>\n",
              "      <td>0</td>\n",
              "      <td>...</td>\n",
              "      <td>0</td>\n",
              "      <td>NaN</td>\n",
              "      <td>NaN</td>\n",
              "      <td>0</td>\n",
              "      <td>NaN</td>\n",
              "      <td>NaN</td>\n",
              "      <td>0</td>\n",
              "      <td>0</td>\n",
              "      <td>2</td>\n",
              "      <td>3</td>\n",
              "    </tr>\n",
              "    <tr>\n",
              "      <th>...</th>\n",
              "      <td>...</td>\n",
              "      <td>...</td>\n",
              "      <td>...</td>\n",
              "      <td>...</td>\n",
              "      <td>...</td>\n",
              "      <td>...</td>\n",
              "      <td>...</td>\n",
              "      <td>...</td>\n",
              "      <td>...</td>\n",
              "      <td>...</td>\n",
              "      <td>...</td>\n",
              "      <td>...</td>\n",
              "      <td>...</td>\n",
              "      <td>...</td>\n",
              "      <td>...</td>\n",
              "      <td>...</td>\n",
              "      <td>...</td>\n",
              "      <td>...</td>\n",
              "      <td>...</td>\n",
              "      <td>...</td>\n",
              "      <td>...</td>\n",
              "    </tr>\n",
              "    <tr>\n",
              "      <th>596340</th>\n",
              "      <td>I-200-19070-784735</td>\n",
              "      <td>1.0</td>\n",
              "      <td>H-1B</td>\n",
              "      <td>79289</td>\n",
              "      <td>176</td>\n",
              "      <td>32</td>\n",
              "      <td>1</td>\n",
              "      <td>1.0</td>\n",
              "      <td>1</td>\n",
              "      <td>0</td>\n",
              "      <td>...</td>\n",
              "      <td>0</td>\n",
              "      <td>NaN</td>\n",
              "      <td>NaN</td>\n",
              "      <td>0</td>\n",
              "      <td>NaN</td>\n",
              "      <td>NaN</td>\n",
              "      <td>0</td>\n",
              "      <td>0</td>\n",
              "      <td>2</td>\n",
              "      <td>1</td>\n",
              "    </tr>\n",
              "    <tr>\n",
              "      <th>596341</th>\n",
              "      <td>I-200-19065-126907</td>\n",
              "      <td>1.0</td>\n",
              "      <td>H-1B</td>\n",
              "      <td>56836</td>\n",
              "      <td>176</td>\n",
              "      <td>32</td>\n",
              "      <td>1</td>\n",
              "      <td>1.0</td>\n",
              "      <td>1</td>\n",
              "      <td>0</td>\n",
              "      <td>...</td>\n",
              "      <td>0</td>\n",
              "      <td>NaN</td>\n",
              "      <td>NaN</td>\n",
              "      <td>0</td>\n",
              "      <td>NaN</td>\n",
              "      <td>NaN</td>\n",
              "      <td>0</td>\n",
              "      <td>0</td>\n",
              "      <td>2</td>\n",
              "      <td>1</td>\n",
              "    </tr>\n",
              "    <tr>\n",
              "      <th>596342</th>\n",
              "      <td>I-200-19070-793826</td>\n",
              "      <td>1.0</td>\n",
              "      <td>H-1B</td>\n",
              "      <td>4718</td>\n",
              "      <td>176</td>\n",
              "      <td>32</td>\n",
              "      <td>1</td>\n",
              "      <td>1.0</td>\n",
              "      <td>1</td>\n",
              "      <td>0</td>\n",
              "      <td>...</td>\n",
              "      <td>0</td>\n",
              "      <td>NaN</td>\n",
              "      <td>NaN</td>\n",
              "      <td>0</td>\n",
              "      <td>NaN</td>\n",
              "      <td>NaN</td>\n",
              "      <td>0</td>\n",
              "      <td>0</td>\n",
              "      <td>2</td>\n",
              "      <td>1</td>\n",
              "    </tr>\n",
              "    <tr>\n",
              "      <th>596343</th>\n",
              "      <td>I-200-19066-751003</td>\n",
              "      <td>1.0</td>\n",
              "      <td>H-1B</td>\n",
              "      <td>50267</td>\n",
              "      <td>176</td>\n",
              "      <td>32</td>\n",
              "      <td>1</td>\n",
              "      <td>1.0</td>\n",
              "      <td>1</td>\n",
              "      <td>0</td>\n",
              "      <td>...</td>\n",
              "      <td>0</td>\n",
              "      <td>NaN</td>\n",
              "      <td>NaN</td>\n",
              "      <td>0</td>\n",
              "      <td>NaN</td>\n",
              "      <td>NaN</td>\n",
              "      <td>0</td>\n",
              "      <td>0</td>\n",
              "      <td>2</td>\n",
              "      <td>1</td>\n",
              "    </tr>\n",
              "    <tr>\n",
              "      <th>596344</th>\n",
              "      <td>I-200-19066-561536</td>\n",
              "      <td>1.0</td>\n",
              "      <td>H-1B</td>\n",
              "      <td>50005</td>\n",
              "      <td>176</td>\n",
              "      <td>32</td>\n",
              "      <td>1</td>\n",
              "      <td>1.0</td>\n",
              "      <td>1</td>\n",
              "      <td>0</td>\n",
              "      <td>...</td>\n",
              "      <td>0</td>\n",
              "      <td>NaN</td>\n",
              "      <td>NaN</td>\n",
              "      <td>0</td>\n",
              "      <td>NaN</td>\n",
              "      <td>NaN</td>\n",
              "      <td>0</td>\n",
              "      <td>0</td>\n",
              "      <td>2</td>\n",
              "      <td>1</td>\n",
              "    </tr>\n",
              "  </tbody>\n",
              "</table>\n",
              "<p>528443 rows × 51 columns</p>\n",
              "</div>\n",
              "      <button class=\"colab-df-convert\" onclick=\"convertToInteractive('df-c319f300-b7dc-415a-9ff8-5e0d19c3c91a')\"\n",
              "              title=\"Convert this dataframe to an interactive table.\"\n",
              "              style=\"display:none;\">\n",
              "        \n",
              "  <svg xmlns=\"http://www.w3.org/2000/svg\" height=\"24px\"viewBox=\"0 0 24 24\"\n",
              "       width=\"24px\">\n",
              "    <path d=\"M0 0h24v24H0V0z\" fill=\"none\"/>\n",
              "    <path d=\"M18.56 5.44l.94 2.06.94-2.06 2.06-.94-2.06-.94-.94-2.06-.94 2.06-2.06.94zm-11 1L8.5 8.5l.94-2.06 2.06-.94-2.06-.94L8.5 2.5l-.94 2.06-2.06.94zm10 10l.94 2.06.94-2.06 2.06-.94-2.06-.94-.94-2.06-.94 2.06-2.06.94z\"/><path d=\"M17.41 7.96l-1.37-1.37c-.4-.4-.92-.59-1.43-.59-.52 0-1.04.2-1.43.59L10.3 9.45l-7.72 7.72c-.78.78-.78 2.05 0 2.83L4 21.41c.39.39.9.59 1.41.59.51 0 1.02-.2 1.41-.59l7.78-7.78 2.81-2.81c.8-.78.8-2.07 0-2.86zM5.41 20L4 18.59l7.72-7.72 1.47 1.35L5.41 20z\"/>\n",
              "  </svg>\n",
              "      </button>\n",
              "      \n",
              "  <style>\n",
              "    .colab-df-container {\n",
              "      display:flex;\n",
              "      flex-wrap:wrap;\n",
              "      gap: 12px;\n",
              "    }\n",
              "\n",
              "    .colab-df-convert {\n",
              "      background-color: #E8F0FE;\n",
              "      border: none;\n",
              "      border-radius: 50%;\n",
              "      cursor: pointer;\n",
              "      display: none;\n",
              "      fill: #1967D2;\n",
              "      height: 32px;\n",
              "      padding: 0 0 0 0;\n",
              "      width: 32px;\n",
              "    }\n",
              "\n",
              "    .colab-df-convert:hover {\n",
              "      background-color: #E2EBFA;\n",
              "      box-shadow: 0px 1px 2px rgba(60, 64, 67, 0.3), 0px 1px 3px 1px rgba(60, 64, 67, 0.15);\n",
              "      fill: #174EA6;\n",
              "    }\n",
              "\n",
              "    [theme=dark] .colab-df-convert {\n",
              "      background-color: #3B4455;\n",
              "      fill: #D2E3FC;\n",
              "    }\n",
              "\n",
              "    [theme=dark] .colab-df-convert:hover {\n",
              "      background-color: #434B5C;\n",
              "      box-shadow: 0px 1px 3px 1px rgba(0, 0, 0, 0.15);\n",
              "      filter: drop-shadow(0px 1px 2px rgba(0, 0, 0, 0.3));\n",
              "      fill: #FFFFFF;\n",
              "    }\n",
              "  </style>\n",
              "\n",
              "      <script>\n",
              "        const buttonEl =\n",
              "          document.querySelector('#df-c319f300-b7dc-415a-9ff8-5e0d19c3c91a button.colab-df-convert');\n",
              "        buttonEl.style.display =\n",
              "          google.colab.kernel.accessAllowed ? 'block' : 'none';\n",
              "\n",
              "        async function convertToInteractive(key) {\n",
              "          const element = document.querySelector('#df-c319f300-b7dc-415a-9ff8-5e0d19c3c91a');\n",
              "          const dataTable =\n",
              "            await google.colab.kernel.invokeFunction('convertToInteractive',\n",
              "                                                     [key], {});\n",
              "          if (!dataTable) return;\n",
              "\n",
              "          const docLinkHtml = 'Like what you see? Visit the ' +\n",
              "            '<a target=\"_blank\" href=https://colab.research.google.com/notebooks/data_table.ipynb>data table notebook</a>'\n",
              "            + ' to learn more about interactive tables.';\n",
              "          element.innerHTML = '';\n",
              "          dataTable['output_type'] = 'display_data';\n",
              "          await google.colab.output.renderOutput(dataTable, element);\n",
              "          const docLink = document.createElement('div');\n",
              "          docLink.innerHTML = docLinkHtml;\n",
              "          element.appendChild(docLink);\n",
              "        }\n",
              "      </script>\n",
              "    </div>\n",
              "  </div>\n",
              "  "
            ],
            "text/plain": [
              "               CASE_NUMBER  CASE_STATUS VISA_CLASS  JOB_TITLE  SOC_CODE  \\\n",
              "24      I-200-18162-689783          1.0       H-1B       1063         2   \n",
              "26      I-200-18268-784387          1.0       H-1B       1066         2   \n",
              "47      I-200-18299-123963          1.0       H-1B      46201         2   \n",
              "52      I-200-18310-551334          1.0       H-1B       6547         2   \n",
              "54      I-200-18317-440186          1.0       H-1B       1067         2   \n",
              "...                    ...          ...        ...        ...       ...   \n",
              "596340  I-200-19070-784735          1.0       H-1B      79289       176   \n",
              "596341  I-200-19065-126907          1.0       H-1B      56836       176   \n",
              "596342  I-200-19070-793826          1.0       H-1B       4718       176   \n",
              "596343  I-200-19066-751003          1.0       H-1B      50267       176   \n",
              "596344  I-200-19066-561536          1.0       H-1B      50005       176   \n",
              "\n",
              "        SOC_TITLE  FULL_TIME_POSITION  TOTAL_WORKER_POSITIONS NEW_EMPLOYMENT  \\\n",
              "24             10                   0                     1.0              1   \n",
              "26             10                   1                     1.0              0   \n",
              "47             10                   1                     1.0              1   \n",
              "52             10                   1                     1.0              0   \n",
              "54             10                   1                    50.0             50   \n",
              "...           ...                 ...                     ...            ...   \n",
              "596340         32                   1                     1.0              1   \n",
              "596341         32                   1                     1.0              1   \n",
              "596342         32                   1                     1.0              1   \n",
              "596343         32                   1                     1.0              1   \n",
              "596344         32                   1                     1.0              1   \n",
              "\n",
              "       CONTINUED_EMPLOYMENT  ...  SECONDARY_ENTITY_9  WAGE_RATE_OF_PAY_FROM_9  \\\n",
              "24                        0  ...                   0                      NaN   \n",
              "26                        0  ...                   0                      NaN   \n",
              "47                        0  ...                   0                      NaN   \n",
              "52                        1  ...                   0                      NaN   \n",
              "54                        0  ...                   0                      NaN   \n",
              "...                     ...  ...                 ...                      ...   \n",
              "596340                    0  ...                   0                      NaN   \n",
              "596341                    0  ...                   0                      NaN   \n",
              "596342                    0  ...                   0                      NaN   \n",
              "596343                    0  ...                   0                      NaN   \n",
              "596344                    0  ...                   0                      NaN   \n",
              "\n",
              "        WAGE_UNIT_OF_PAY_9  SECONDARY_ENTITY_10  WAGE_RATE_OF_PAY_FROM_10  \\\n",
              "24                     NaN                    0                       NaN   \n",
              "26                     NaN                    0                       NaN   \n",
              "47                     NaN                    0                       NaN   \n",
              "52                     NaN                    0                       NaN   \n",
              "54                     NaN                    0                       NaN   \n",
              "...                    ...                  ...                       ...   \n",
              "596340                 NaN                    0                       NaN   \n",
              "596341                 NaN                    0                       NaN   \n",
              "596342                 NaN                    0                       NaN   \n",
              "596343                 NaN                    0                       NaN   \n",
              "596344                 NaN                    0                       NaN   \n",
              "\n",
              "        WAGE_UNIT_OF_PAY_10  H-1B_DEPENDENT  WILLFUL_VIOLATOR  SUPPORT_H1B  \\\n",
              "24                      NaN               0                 0            2   \n",
              "26                      NaN               0                 0            2   \n",
              "47                      NaN               0                 0            2   \n",
              "52                      NaN               0                 0            2   \n",
              "54                      NaN               0                 0            2   \n",
              "...                     ...             ...               ...          ...   \n",
              "596340                  NaN               0                 0            2   \n",
              "596341                  NaN               0                 0            2   \n",
              "596342                  NaN               0                 0            2   \n",
              "596343                  NaN               0                 0            2   \n",
              "596344                  NaN               0                 0            2   \n",
              "\n",
              "        SUM_SECONDARY_ENTITY  \n",
              "24                         1  \n",
              "26                         1  \n",
              "47                         3  \n",
              "52                         3  \n",
              "54                         3  \n",
              "...                      ...  \n",
              "596340                     1  \n",
              "596341                     1  \n",
              "596342                     1  \n",
              "596343                     1  \n",
              "596344                     1  \n",
              "\n",
              "[528443 rows x 51 columns]"
            ]
          },
          "metadata": {},
          "execution_count": 856
        }
      ]
    },
    {
      "cell_type": "markdown",
      "metadata": {
        "id": "PDae-hUhA6EG"
      },
      "source": [
        "Logistic Regression"
      ]
    },
    {
      "cell_type": "code",
      "execution_count": 857,
      "metadata": {
        "pycharm": {
          "name": "#%%\n"
        },
        "id": "keqXgSKBA6EG",
        "colab": {
          "base_uri": "https://localhost:8080/"
        },
        "outputId": "6e2113bd-bc6f-4f8d-d0ac-1dc99af5b9d9"
      },
      "outputs": [
        {
          "output_type": "stream",
          "name": "stderr",
          "text": [
            "/usr/local/lib/python3.7/dist-packages/sklearn/linear_model/_logistic.py:818: ConvergenceWarning: lbfgs failed to converge (status=1):\n",
            "STOP: TOTAL NO. of ITERATIONS REACHED LIMIT.\n",
            "\n",
            "Increase the number of iterations (max_iter) or scale the data as shown in:\n",
            "    https://scikit-learn.org/stable/modules/preprocessing.html\n",
            "Please also refer to the documentation for alternative solver options:\n",
            "    https://scikit-learn.org/stable/modules/linear_model.html#logistic-regression\n",
            "  extra_warning_msg=_LOGISTIC_SOLVER_CONVERGENCE_MSG,\n"
          ]
        }
      ],
      "source": [
        "# Logistic Regression\n",
        "\n",
        "# For Logistic regression [19], we select the features SECONDARY_ENTITY, AGENT_REPRESENTING_EMPLOYER, TOTAL_WORKERS, NEW_EMPLOYMENT, CONTINUED_EMPLOYMENT, CHANGE_PREVIOUS_EMPLOYMENT, NEW_CONCURRENT_EMPLOYMENT, CHANGE_EMPLOYER, AMENDED_PETITION,FULL_TIME_POSITION, H1B_DEPENDENT and WILLFUL_VIOLATOR. Probability of outcome (y) given by:\n",
        "\n",
        "x=testing.iloc[:, [6, 7, 10, 11, 12, 13, 16, 47, 48, 50]]\n",
        "y=testing['CASE_STATUS']\n",
        "\n",
        "x_train, x_test, y_train, y_test = train_test_split(x, y, test_size=0.2, random_state=50 )\n",
        "\n",
        "lmodel = LogisticRegression()\n",
        "lmodel.fit(x_train, y_train)\n",
        "predictions = lmodel.predict(x_test)"
      ]
    },
    {
      "cell_type": "code",
      "execution_count": 858,
      "metadata": {
        "pycharm": {
          "name": "#%%\n"
        },
        "id": "f7yXNAXQA6EH",
        "colab": {
          "base_uri": "https://localhost:8080/"
        },
        "outputId": "2bde05ec-69d9-4a48-b2a2-3ce094f3bf4d"
      },
      "outputs": [
        {
          "output_type": "execute_result",
          "data": {
            "text/plain": [
              "array([[     0,    812],\n",
              "       [     0, 104877]])"
            ]
          },
          "metadata": {},
          "execution_count": 858
        }
      ],
      "source": [
        "confusion_matrix(y_test, predictions)"
      ]
    },
    {
      "cell_type": "markdown",
      "metadata": {
        "id": "F7n3bAFbA6EH"
      },
      "source": [
        "Confusion matrix and Accuracy:"
      ]
    },
    {
      "cell_type": "code",
      "execution_count": 859,
      "metadata": {
        "pycharm": {
          "name": "#%%\n"
        },
        "id": "Rkjn09MJA6EH",
        "colab": {
          "base_uri": "https://localhost:8080/"
        },
        "outputId": "d46d10e3-3b81-402c-d1a3-279ac9215d00"
      },
      "outputs": [
        {
          "output_type": "execute_result",
          "data": {
            "text/plain": [
              "0.9923170812478119"
            ]
          },
          "metadata": {},
          "execution_count": 859
        }
      ],
      "source": [
        "#The accouracy is:\n",
        "accuracy_score(y_test, predictions)"
      ]
    },
    {
      "cell_type": "markdown",
      "metadata": {
        "id": "XqXptb90A6EI"
      },
      "source": [
        "Random Forest "
      ]
    },
    {
      "cell_type": "code",
      "execution_count": 860,
      "metadata": {
        "pycharm": {
          "name": "#%%\n"
        },
        "id": "TCx3P7w7A6EI",
        "colab": {
          "base_uri": "https://localhost:8080/",
          "height": 105
        },
        "outputId": "58b47c02-ab55-465c-c03e-e0d0a330e356"
      },
      "outputs": [
        {
          "output_type": "execute_result",
          "data": {
            "application/vnd.google.colaboratory.intrinsic+json": {
              "type": "string"
            },
            "text/plain": [
              "\"\\n#Random Forest\\n\\n# For Random forest model, the model was generated using a 50% mix of approved and rejected cases. For this, entire rejected cases and randomly sampled equal count of approved cases was chosen.\\n\\n\\napproved_cases = testing[testing['CASE_STATUS']==1]\\nrejected_cases = testing[testing['CASE_STATUS']==0]\\n\\nrf_test_data = [rejected_cases, approved_cases.sample(len(rejected_cases))]\\nrf_test_data = pd.concat(rf_test_data)\\n\\nx_train, x_test, y_train, y_test = train_test_split(rf_test_data.iloc[:, [3, 4, 5, 6, 7, 10, 11, 12, 13, 14, 15, 16, 47, 48, 49, 50]], rf_test_data['CASE_STATUS'], test_size=0.7, random_state=50 )\\n\\nmodel=RandomForestClassifier()\\nmodel.fit(x_train, y_train)\\npredictions = model.predict(x_test)\\n\""
            ]
          },
          "metadata": {},
          "execution_count": 860
        }
      ],
      "source": [
        "'''\n",
        "#Random Forest\n",
        "\n",
        "# For Random forest model, the model was generated using a 50% mix of approved and rejected cases. For this, entire rejected cases and randomly sampled equal count of approved cases was chosen.\n",
        "\n",
        "\n",
        "approved_cases = testing[testing['CASE_STATUS']==1]\n",
        "rejected_cases = testing[testing['CASE_STATUS']==0]\n",
        "\n",
        "rf_test_data = [rejected_cases, approved_cases.sample(len(rejected_cases))]\n",
        "rf_test_data = pd.concat(rf_test_data)\n",
        "\n",
        "x_train, x_test, y_train, y_test = train_test_split(rf_test_data.iloc[:, [3, 4, 5, 6, 7, 10, 11, 12, 13, 14, 15, 16, 47, 48, 49, 50]], rf_test_data['CASE_STATUS'], test_size=0.7, random_state=50 )\n",
        "\n",
        "model=RandomForestClassifier()\n",
        "model.fit(x_train, y_train)\n",
        "predictions = model.predict(x_test)\n",
        "'''"
      ]
    },
    {
      "cell_type": "markdown",
      "metadata": {
        "id": "auWJojMLA6EJ"
      },
      "source": [
        "Confusion matrix and Accuracy: "
      ]
    },
    {
      "cell_type": "code",
      "source": [
        "# accuracy_score(y_test, predictions)"
      ],
      "metadata": {
        "id": "NVYC4mMiS4yb"
      },
      "execution_count": 861,
      "outputs": []
    },
    {
      "cell_type": "code",
      "execution_count": 862,
      "metadata": {
        "pycharm": {
          "name": "#%%\n"
        },
        "id": "tzzG_0IeA6EJ"
      },
      "outputs": [],
      "source": [
        "# confusion_matrix(y_test, predictions)"
      ]
    },
    {
      "cell_type": "code",
      "source": [
        "import pickle"
      ],
      "metadata": {
        "id": "haoSd8J70tsj"
      },
      "execution_count": 863,
      "outputs": []
    },
    {
      "cell_type": "code",
      "source": [
        "filename = 'H-1B1_ML_Model'\n",
        "pickle.dump(lmodel, open(filename, 'wb'))"
      ],
      "metadata": {
        "id": "Sw5kndk90wM5"
      },
      "execution_count": 864,
      "outputs": []
    },
    {
      "cell_type": "code",
      "source": [
        "loaded_model = pickle.load(open(filename, 'rb'))\n",
        "loaded_model.predict(x_test)"
      ],
      "metadata": {
        "colab": {
          "base_uri": "https://localhost:8080/"
        },
        "id": "s5535whk1HWI",
        "outputId": "8ff69bd5-ff3d-4683-8884-cb4e02d4f800"
      },
      "execution_count": 865,
      "outputs": [
        {
          "output_type": "execute_result",
          "data": {
            "text/plain": [
              "array([1., 1., 1., ..., 1., 1., 1.])"
            ]
          },
          "metadata": {},
          "execution_count": 865
        }
      ]
    },
    {
      "cell_type": "code",
      "source": [
        ""
      ],
      "metadata": {
        "id": "Af8ai7oc1fh1"
      },
      "execution_count": 865,
      "outputs": []
    }
  ],
  "metadata": {
    "kernelspec": {
      "display_name": "Python 3",
      "language": "python",
      "name": "python3"
    },
    "language_info": {
      "codemirror_mode": {
        "name": "ipython",
        "version": 3
      },
      "file_extension": ".py",
      "mimetype": "text/x-python",
      "name": "python",
      "nbconvert_exporter": "python",
      "pygments_lexer": "ipython3",
      "version": "3.7.6"
    },
    "colab": {
      "name": "Ashish - ML Model.ipynb",
      "provenance": [],
      "collapsed_sections": []
    }
  },
  "nbformat": 4,
  "nbformat_minor": 0
}
